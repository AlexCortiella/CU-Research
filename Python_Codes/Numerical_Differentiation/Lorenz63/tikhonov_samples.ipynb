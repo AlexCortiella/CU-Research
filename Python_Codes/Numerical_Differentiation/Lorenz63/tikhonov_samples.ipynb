{
 "cells": [
  {
   "cell_type": "code",
   "execution_count": 1,
   "metadata": {},
   "outputs": [],
   "source": [
    "# IMPORTS\n",
    "import cvxpy as cp\n",
    "import numpy as np\n",
    "import numpy.linalg\n",
    "import numpy.matlib\n",
    "from numpy.linalg import norm\n",
    "import algorithms.tikhonov_states as tikhonov\n",
    "from scipy import interpolate\n",
    "from scipy import signal\n",
    "import csv   \n",
    "import matplotlib.pyplot as plt\n",
    "import pandas as pd"
   ]
  },
  {
   "cell_type": "code",
   "execution_count": 2,
   "metadata": {},
   "outputs": [],
   "source": [
    "# LOAD DATA\n",
    "\n",
    "# 1) LOAD DYNAMICS AND TIME ARRAYS\n",
    "\n",
    "filepath = 'data_files/Lorenz63_dynamics.csv'\n",
    "dynamics = np.genfromtxt(filepath, delimiter=',')\n",
    "\n",
    "t = dynamics[0]\n",
    "data = dynamics[1:]\n",
    "n_states = int(data.shape[0] / 2)\n",
    "X = data[0:n_states]\n",
    "DX = data[n_states:]\n",
    "t_samples = len(t)\n",
    "\n",
    "\n",
    "# 2) LOAD OBSERVATION SAMPLES\n",
    "Y_samples = []\n",
    "noise_lvl = '0.001'\n",
    "\n",
    "for state in range(n_states):\n",
    "    \n",
    "    filepath = 'data_files/Lorenz63_samples_noise_' + noise_lvl +'_Y'+ str(state+1) + '.csv'\n",
    "    y = np.genfromtxt(filepath, delimiter=',')\n",
    "        \n",
    "    Y_samples.append(y)\n",
    "    \n",
    "n_samples = Y_samples[0].shape[0]"
   ]
  },
  {
   "cell_type": "code",
   "execution_count": 4,
   "metadata": {},
   "outputs": [
    {
     "name": "stdout",
     "output_type": "stream",
     "text": [
      "lambda_min too small. Increasing it 10 times...\n",
      "lambda_min too small. Increasing it 10 times...\n",
      "lambda_min too small. Increasing it 10 times...\n",
      "lambda_min too small. Increasing it 10 times...\n",
      "lambda_min too small. Increasing it 10 times...\n",
      "lambda_min too small. Increasing it 10 times...\n",
      "lambda_min too small. Increasing it 10 times...\n",
      "lambda_min too small. Increasing it 10 times...\n",
      "lambda_min too small. Increasing it 10 times...\n",
      "lambda_min too small. Increasing it 10 times...\n",
      "lambda_min too small. Increasing it 10 times...\n",
      "lambda_min too small. Increasing it 10 times...\n",
      "lambda_min too small. Increasing it 10 times...\n",
      "lambda_min too small. Increasing it 10 times...\n",
      "lambda_min too small. Increasing it 10 times...\n",
      "lambda_min too small. Increasing it 10 times...\n",
      "lambda_min too small. Increasing it 10 times...\n",
      "lambda_min too small. Increasing it 10 times...\n",
      "  Convergence criterion reached in 0 iterations.\n",
      "lambda_min too small. Increasing it 10 times...\n",
      "lambda_min too small. Increasing it 10 times...\n",
      "lambda_min too small. Increasing it 10 times...\n",
      "lambda_min too small. Increasing it 10 times...\n",
      "lambda_min too small. Increasing it 10 times...\n",
      "lambda_min too small. Increasing it 10 times...\n",
      "lambda_min too small. Increasing it 10 times...\n",
      "lambda_min too small. Increasing it 10 times...\n",
      "lambda_min too small. Increasing it 10 times...\n",
      "lambda_min too small. Increasing it 10 times...\n",
      "lambda_min too small. Increasing it 10 times...\n",
      "lambda_min too small. Increasing it 10 times...\n",
      "lambda_min too small. Increasing it 10 times...\n",
      "lambda_min too small. Increasing it 10 times...\n",
      "lambda_min too small. Increasing it 10 times...\n",
      "lambda_min too small. Increasing it 10 times...\n",
      "lambda_min too small. Increasing it 10 times...\n",
      "lambda_min too small. Increasing it 10 times...\n",
      "  Convergence criterion reached in 0 iterations.\n",
      "lambda_min too small. Increasing it 10 times...\n",
      "lambda_min too small. Increasing it 10 times...\n",
      "lambda_min too small. Increasing it 10 times...\n",
      "lambda_min too small. Increasing it 10 times...\n",
      "lambda_min too small. Increasing it 10 times...\n",
      "lambda_min too small. Increasing it 10 times...\n",
      "lambda_min too small. Increasing it 10 times...\n",
      "lambda_min too small. Increasing it 10 times...\n",
      "lambda_min too small. Increasing it 10 times...\n",
      "lambda_min too small. Increasing it 10 times...\n",
      "lambda_min too small. Increasing it 10 times...\n",
      "lambda_min too small. Increasing it 10 times...\n",
      "lambda_min too small. Increasing it 10 times...\n",
      "lambda_min too small. Increasing it 10 times...\n",
      "lambda_min too small. Increasing it 10 times...\n",
      "lambda_min too small. Increasing it 10 times...\n",
      "lambda_min too small. Increasing it 10 times...\n",
      "lambda_min too small. Increasing it 10 times...\n",
      "  Convergence criterion reached in 0 iterations.\n"
     ]
    },
    {
     "data": {
      "image/png": "[encoded data removed]",
      "text/plain": [
       "<Figure size 432x288 with 1 Axes>"
      ]
     },
     "metadata": {
      "needs_background": "light"
     },
     "output_type": "display_data"
    }
   ],
   "source": [
    "################### DENOISING AND NUMERICAL DIFFERENTIATION - SMOOTHING SPLINES ###################\n",
    "# Yhat_tik = np.zeros((t_samples, n_states))\n",
    "# DYhat_tik = np.zeros((t_samples, n_states))\n",
    "error_X = np.zeros((n_samples,n_states))\n",
    "trim = int(np.floor(5 / 100 * t_samples))\n",
    "\n",
    "\n",
    "# for sample in range(n_samples):\n",
    "for sample in range(1):\n",
    "\n",
    "    #R code\n",
    "    for state in range(n_states):\n",
    "        \n",
    "        y = Y_samples[state][sample,:]\n",
    "        \n",
    "        tik_flc = tikhonov.full_lcurve(y, lambda_min = 1e-16, lambda_max = 1)\n",
    "        y_path = tik_flc[0]\n",
    "        res, reg = tik_flc[1]\n",
    "        error_path = np.zeros(y_path.shape[1])\n",
    "        for i in range(y_path.shape[1]):\n",
    "            error_path[i] = norm(y_path[:,i] - X[state,:]) / norm(X[state,:])\n",
    "        \n",
    "        min_indx = np.argmin(error_path)\n",
    "        #Find corner point\n",
    "        tik_lc = tikhonov.lcurve_corner(y, lambda_min = 1e-16, lambda_max = 1)\n",
    "        y_tik = tik_lc[0]\n",
    "        resc, regc = tik_lc[3]\n",
    "        plt.loglog(res, reg)\n",
    "        plt.loglog(res[min_indx], reg[min_indx],'ko')\n",
    "        plt.loglog(resc[-1], regc[-1], 'ro')\n",
    "#         plt.plot(t, y_path[:,min_indx])\n",
    "#         plt.plot(t, X[state,:],'k--')\n",
    "        #Remove ends\n",
    "        Yhat_tik = y_tik[trim:-trim]\n",
    "        #Compute errors\n",
    "        error_X[sample,state] = norm(Yhat_tik - X[state,trim:-trim]) / norm(X[state,trim:-trim])"
   ]
  },
  {
   "cell_type": "code",
   "execution_count": 27,
   "metadata": {},
   "outputs": [
    {
     "data": {
      "image/png": "[encoded data removed]",
      "text/plain": [
       "<Figure size 1152x864 with 3 Axes>"
      ]
     },
     "metadata": {
      "needs_background": "light"
     },
     "output_type": "display_data"
    }
   ],
   "source": [
    "fig, ax = plt.subplots(n_states,1, figsize = (16,12))\n",
    "\n",
    "for state in range(n_states):\n",
    "    ax[state].plot(error_X[:,state])\n",
    "    ax[state].set_ylabel(f'x{state+1} error')\n",
    "    ax[state].set_xlabel('sample #')"
   ]
  },
  {
   "cell_type": "code",
   "execution_count": 28,
   "metadata": {},
   "outputs": [],
   "source": [
    "mean_X_error = np.zeros(n_states)\n",
    "var_X_error = np.zeros(n_states)\n",
    "\n",
    "ind_names = []\n",
    "col_names = ['mean error x', 'var. error x']\n",
    "\n",
    "for state in range(n_states):\n",
    "    mean_X_error[state] = error_X[:,state].mean()\n",
    "    var_X_error[state] = error_X[:,state].var()\n",
    "    ind_names.extend(['state x' + str(state+1)])\n",
    "    "
   ]
  },
  {
   "cell_type": "code",
   "execution_count": 29,
   "metadata": {},
   "outputs": [
    {
     "data": {
      "text/html": [
       "<div>\n",
       "<style scoped>\n",
       "    .dataframe tbody tr th:only-of-type {\n",
       "        vertical-align: middle;\n",
       "    }\n",
       "\n",
       "    .dataframe tbody tr th {\n",
       "        vertical-align: top;\n",
       "    }\n",
       "\n",
       "    .dataframe thead th {\n",
       "        text-align: right;\n",
       "    }\n",
       "</style>\n",
       "<table border=\"1\" class=\"dataframe\">\n",
       "  <thead>\n",
       "    <tr style=\"text-align: right;\">\n",
       "      <th></th>\n",
       "      <th>mean error x</th>\n",
       "      <th>var. error x</th>\n",
       "    </tr>\n",
       "  </thead>\n",
       "  <tbody>\n",
       "    <tr>\n",
       "      <td>state x1</td>\n",
       "      <td>0.000008</td>\n",
       "      <td>6.332284e-09</td>\n",
       "    </tr>\n",
       "    <tr>\n",
       "      <td>state x2</td>\n",
       "      <td>0.000010</td>\n",
       "      <td>9.165786e-09</td>\n",
       "    </tr>\n",
       "    <tr>\n",
       "      <td>state x3</td>\n",
       "      <td>0.000003</td>\n",
       "      <td>6.297349e-10</td>\n",
       "    </tr>\n",
       "  </tbody>\n",
       "</table>\n",
       "</div>"
      ],
      "text/plain": [
       "          mean error x  var. error x\n",
       "state x1      0.000008  6.332284e-09\n",
       "state x2      0.000010  9.165786e-09\n",
       "state x3      0.000003  6.297349e-10"
      ]
     },
     "execution_count": 29,
     "metadata": {},
     "output_type": "execute_result"
    }
   ],
   "source": [
    "errors = pd.DataFrame(np.array([mean_X_error, var_X_error]).T, index = ind_names, columns=col_names)\n",
    "errors"
   ]
  },
  {
   "cell_type": "code",
   "execution_count": null,
   "metadata": {},
   "outputs": [],
   "source": []
  }
 ],
 "metadata": {
  "kernelspec": {
   "display_name": "Python 3",
   "language": "python",
   "name": "python3"
  },
  "language_info": {
   "codemirror_mode": {
    "name": "ipython",
    "version": 3
   },
   "file_extension": ".py",
   "mimetype": "text/x-python",
   "name": "python",
   "nbconvert_exporter": "python",
   "pygments_lexer": "ipython3",
   "version": "3.7.4"
  }
 },
 "nbformat": 4,
 "nbformat_minor": 2
}
