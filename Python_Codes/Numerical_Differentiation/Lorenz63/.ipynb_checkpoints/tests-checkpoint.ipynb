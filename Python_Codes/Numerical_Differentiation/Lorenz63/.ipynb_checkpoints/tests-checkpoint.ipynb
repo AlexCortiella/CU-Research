{
 "cells": [
  {
   "cell_type": "code",
   "execution_count": 3,
   "metadata": {},
   "outputs": [
    {
     "name": "stdout",
     "output_type": "stream",
     "text": [
      "[[-1.  3. -3.  1.  0.  0.  0.  0.  0.  0.]\n",
      " [ 0. -1.  3. -3.  1.  0.  0.  0.  0.  0.]\n",
      " [ 0.  0. -1.  3. -3.  1.  0.  0.  0.  0.]\n",
      " [ 0.  0.  0. -1.  3. -3.  1.  0.  0.  0.]\n",
      " [ 0.  0.  0.  0. -1.  3. -3.  1.  0.  0.]\n",
      " [ 0.  0.  0.  0.  0. -1.  3. -3.  1.  0.]\n",
      " [ 0.  0.  0.  0.  0.  0. -1.  3. -3.  1.]]\n"
     ]
    }
   ],
   "source": [
    "import numpy as np\n",
    "from scipy.special import binom\n",
    "order = 3\n",
    "n = 10\n",
    "dx = 1\n",
    "# Implement finite difference at 1st order accuracy\n",
    "method = [(-1)**(order+i)*binom(order,i) for i in range(order+1)]\n",
    "# Construct matrix\n",
    "M = [method + [0] * (n - len(method))]\n",
    "for row in range(n - len(method)):\n",
    "    M.append([0] * (row + 1) + method + [0] * (n - len(method) - row - 1))\n",
    "        \n",
    "print(np.array(M) / dx ** order)"
   ]
  },
  {
   "cell_type": "code",
   "execution_count": null,
   "metadata": {},
   "outputs": [],
   "source": []
  }
 ],
 "metadata": {
  "kernelspec": {
   "display_name": "Python [conda env:root] *",
   "language": "python",
   "name": "conda-root-py"
  },
  "language_info": {
   "codemirror_mode": {
    "name": "ipython",
    "version": 3
   },
   "file_extension": ".py",
   "mimetype": "text/x-python",
   "name": "python",
   "nbconvert_exporter": "python",
   "pygments_lexer": "ipython3",
   "version": "3.7.4"
  }
 },
 "nbformat": 4,
 "nbformat_minor": 2
}
