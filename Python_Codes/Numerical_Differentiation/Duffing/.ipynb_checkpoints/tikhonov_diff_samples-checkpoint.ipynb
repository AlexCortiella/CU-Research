{
 "cells": [
  {
   "cell_type": "code",
   "execution_count": 2,
   "metadata": {},
   "outputs": [],
   "source": [
    "# IMPORTS\n",
    "import cvxpy as cp\n",
    "import numpy as np\n",
    "import numpy.linalg\n",
    "import numpy.matlib\n",
    "from numpy.linalg import norm\n",
    "import algorithms.tikhonov as tikhonov\n",
    "from scipy import interpolate\n",
    "from scipy import signal\n",
    "import csv   \n",
    "import matplotlib.pyplot as plt\n",
    "import pandas as pd"
   ]
  },
  {
   "cell_type": "code",
   "execution_count": 3,
   "metadata": {},
   "outputs": [],
   "source": [
    "# LOAD DATA\n",
    "\n",
    "# 1) LOAD DYNAMICS AND TIME ARRAYS\n",
    "\n",
    "filepath = 'data_files/Lorenz63_dynamics.csv'\n",
    "dynamics = np.genfromtxt(filepath, delimiter=',')\n",
    "\n",
    "t = dynamics[0]\n",
    "data = dynamics[1:]\n",
    "n_states = int(data.shape[0] / 2)\n",
    "X = data[0:n_states]\n",
    "DX = data[n_states:]\n",
    "t_samples = len(t)\n",
    "\n",
    "\n",
    "# 2) LOAD OBSERVATION SAMPLES\n",
    "Y_samples = []\n",
    "noise_lvl = '0.001'\n",
    "\n",
    "for state in range(n_states):\n",
    "    \n",
    "    filepath = 'data_files/Lorenz63_samples_noise_' + noise_lvl +'_Y'+ str(state+1) + '.csv'\n",
    "    y = np.genfromtxt(filepath, delimiter=',')\n",
    "        \n",
    "    Y_samples.append(y)\n",
    "    \n",
    "n_samples = Y_samples[0].shape[0]"
   ]
  },
  {
   "cell_type": "code",
   "execution_count": 10,
   "metadata": {},
   "outputs": [
    {
     "name": "stdout",
     "output_type": "stream",
     "text": [
      "  Convergence criterion reached in 12 iterations.\n",
      "  Convergence criterion reached in 0 iterations.\n",
      "  Convergence criterion reached in 0 iterations.\n"
     ]
    },
    {
     "data": {
      "image/png": "[encoded data removed]",
      "text/plain": [
       "<Figure size 432x288 with 1 Axes>"
      ]
     },
     "metadata": {
      "needs_background": "light"
     },
     "output_type": "display_data"
    }
   ],
   "source": [
    "################### DENOISING AND NUMERICAL DIFFERENTIATION - SMOOTHING SPLINES ###################\n",
    "# Yhat_tik = np.zeros((t_samples, n_states))\n",
    "# DYhat_tik = np.zeros((t_samples, n_states))\n",
    "error_X = np.zeros((n_samples,n_states))\n",
    "error_dX = np.zeros((n_samples,n_states))\n",
    "trim = int(np.floor(5 / 100 * t_samples))\n",
    "\n",
    "\n",
    "# for sample in range(n_samples):\n",
    "for sample in range(1):\n",
    "\n",
    "    #CVX code\n",
    "    for state in range(n_states):\n",
    "        \n",
    "        y = Y_samples[state][sample,:]\n",
    "        \n",
    "        tik_flc = tikhonov.full_lcurve(y, t, lambda_min = 1e-12, lambda_max = 100)\n",
    "        dy_path = tik_flc[0]\n",
    "        res, reg = tik_flc[1]\n",
    "        for i in range(dy_path.shape[1]):\n",
    "            error_path = norm(dy_path[:,i] - DX[state,:]) / norm(DX[state,:])\n",
    "        \n",
    "        min_indx = np.argmin(error_path)\n",
    "        #Find corner point\n",
    "        tik_lc = tikhonov.lcurve_corner(y, t, lambda_min = 1e-12, lambda_max = 100)\n",
    "        dy_tik = tik_lc[0]\n",
    "        resc, regc = tik_lc[3]\n",
    "        plt.plot(res, reg)\n",
    "        plt.plot(res[min_indx], reg[min_indx],'ko')\n",
    "        plt.plot(resc[-1], regc[-1], 'ro')\n",
    "        #Remove ends\n",
    "        DYhat_tik = dy_tik[trim:-trim]\n",
    "        #Compute errors\n",
    "        error_dX[sample,state] = norm(DYhat_tik - DX[state,trim:-trim]) / norm(DX[state,trim:-trim])"
   ]
  },
  {
   "cell_type": "code",
   "execution_count": null,
   "metadata": {},
   "outputs": [],
   "source": [
    "fig, ax = plt.subplots(n_states,2, figsize = (16,12))\n",
    "\n",
    "for state in range(n_states):\n",
    "    ax[state][0].plot(error_X[:,state])\n",
    "    ax[state][0].set_ylabel(f'x{state+1} error')\n",
    "    ax[state][0].set_xlabel('sample #')\n",
    "    ax[state][1].plot(error_dX[:,state])\n",
    "    ax[state][1].set_ylabel(f'dx{state+1}/dt error')\n",
    "    ax[state][1].set_xlabel('sample #')"
   ]
  },
  {
   "cell_type": "code",
   "execution_count": 37,
   "metadata": {},
   "outputs": [],
   "source": [
    "mean_X_error = np.zeros(n_states)\n",
    "mean_dX_error = np.zeros(n_states)\n",
    "\n",
    "var_X_error = np.zeros(n_states)\n",
    "var_dX_error = np.zeros(n_states)\n",
    "\n",
    "ind_names = []\n",
    "col_names = ['mean error x', 'var. error x', 'mean error dx', 'var. error dx']\n",
    "\n",
    "for state in range(n_states):\n",
    "    mean_X_error[state] = error_X[:,state].mean()\n",
    "    mean_dX_error[state] = error_dX[:,state].mean()\n",
    "    var_X_error[state] = error_X[:,state].var()\n",
    "    var_dX_error[state] = error_dX[:,state].var()\n",
    "    ind_names.extend(['state x' + str(state+1)])\n",
    "    "
   ]
  },
  {
   "cell_type": "code",
   "execution_count": 38,
   "metadata": {},
   "outputs": [
    {
     "data": {
      "text/html": [
       "<div>\n",
       "<style scoped>\n",
       "    .dataframe tbody tr th:only-of-type {\n",
       "        vertical-align: middle;\n",
       "    }\n",
       "\n",
       "    .dataframe tbody tr th {\n",
       "        vertical-align: top;\n",
       "    }\n",
       "\n",
       "    .dataframe thead th {\n",
       "        text-align: right;\n",
       "    }\n",
       "</style>\n",
       "<table border=\"1\" class=\"dataframe\">\n",
       "  <thead>\n",
       "    <tr style=\"text-align: right;\">\n",
       "      <th></th>\n",
       "      <th>mean error x</th>\n",
       "      <th>var. error x</th>\n",
       "      <th>mean error dx</th>\n",
       "      <th>var. error dx</th>\n",
       "    </tr>\n",
       "  </thead>\n",
       "  <tbody>\n",
       "    <tr>\n",
       "      <td>state x1</td>\n",
       "      <td>0.000089</td>\n",
       "      <td>3.609505e-11</td>\n",
       "      <td>0.001305</td>\n",
       "      <td>5.639694e-09</td>\n",
       "    </tr>\n",
       "    <tr>\n",
       "      <td>state x2</td>\n",
       "      <td>0.000110</td>\n",
       "      <td>3.784065e-11</td>\n",
       "      <td>0.001475</td>\n",
       "      <td>1.632800e-09</td>\n",
       "    </tr>\n",
       "    <tr>\n",
       "      <td>state x3</td>\n",
       "      <td>0.000048</td>\n",
       "      <td>5.740017e-12</td>\n",
       "      <td>0.001133</td>\n",
       "      <td>6.920810e-10</td>\n",
       "    </tr>\n",
       "  </tbody>\n",
       "</table>\n",
       "</div>"
      ],
      "text/plain": [
       "          mean error x  var. error x  mean error dx  var. error dx\n",
       "state x1      0.000089  3.609505e-11       0.001305   5.639694e-09\n",
       "state x2      0.000110  3.784065e-11       0.001475   1.632800e-09\n",
       "state x3      0.000048  5.740017e-12       0.001133   6.920810e-10"
      ]
     },
     "execution_count": 38,
     "metadata": {},
     "output_type": "execute_result"
    }
   ],
   "source": [
    "errors = pd.DataFrame(np.array([mean_X_error, var_X_error, mean_dX_error, var_dX_error]).T, index = ind_names, columns=col_names)\n",
    "errors"
   ]
  }
 ],
 "metadata": {
  "kernelspec": {
   "display_name": "Python 3",
   "language": "python",
   "name": "python3"
  },
  "language_info": {
   "codemirror_mode": {
    "name": "ipython",
    "version": 3
   },
   "file_extension": ".py",
   "mimetype": "text/x-python",
   "name": "python",
   "nbconvert_exporter": "python",
   "pygments_lexer": "ipython3",
   "version": "3.7.4"
  }
 },
 "nbformat": 4,
 "nbformat_minor": 2
}
