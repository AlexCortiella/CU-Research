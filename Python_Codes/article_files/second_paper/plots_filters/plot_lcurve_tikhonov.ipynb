{
 "cells": [
  {
   "cell_type": "code",
   "execution_count": 1,
   "metadata": {},
   "outputs": [],
   "source": [
    "import json\n",
    "import matplotlib.pyplot as plt\n",
    "from matplotlib.ticker import ScalarFormatter,AutoMinorLocator\n",
    "import matplotlib as mpl\n",
    "from matplotlib import rcParams\n",
    "rcParams['font.family'] = 'sans-serif'\n",
    "rcParams['font.sans-serif'] = ['Times']"
   ]
  },
  {
   "cell_type": "code",
   "execution_count": 17,
   "metadata": {},
   "outputs": [],
   "source": [
    "filter_method = 'tikhonov'\n",
    "system = 'VanderPol'\n",
    "n_states = 2\n",
    "noise_lvl = 0.1\n",
    "## READ JSON FILE\n",
    "filename = system+'_'+filter_method+'_lcurve_noise_'+str(noise_lvl).replace('.','d')+'.json'\n",
    "filepath = 'data_files/'+system+'/'+filter_method+'/'+filename\n",
    "with open(filepath) as f:\n",
    "  lcurve_dict = json.load(f)"
   ]
  },
  {
   "cell_type": "code",
   "execution_count": 18,
   "metadata": {},
   "outputs": [],
   "source": [
    "##PLOTTING STYLES\n",
    "dashesStyles = [[3,1],\n",
    "            [1000,1],\n",
    "            [2,1,10,1],\n",
    "            [4, 1, 1, 1, 1, 1]]"
   ]
  },
  {
   "cell_type": "code",
   "execution_count": 19,
   "metadata": {},
   "outputs": [
    {
     "name": "stderr",
     "output_type": "stream",
     "text": [
      "findfont: Font family ['sans-serif'] not found. Falling back to DejaVu Sans.\n"
     ]
    },
    {
     "data": {
      "image/png": "[encoded data removed]",
      "text/plain": [
       "<Figure size 432x288 with 1 Axes>"
      ]
     },
     "metadata": {
      "needs_background": "light"
     },
     "output_type": "display_data"
    }
   ],
   "source": [
    "plt.close('all')\n",
    "fig,ax = plt.subplots()\n",
    "\n",
    "\n",
    "for state in range(n_states):\n",
    "\n",
    "    res = lcurve_dict[f'state{state+1}:residual']\n",
    "    reg = lcurve_dict[f'state{state+1}:regularizer']\n",
    "    res_lc = lcurve_dict[f'state{state+1}:res_corner']\n",
    "    reg_lc = lcurve_dict[f'state{state+1}:reg_corner']\n",
    "    res_min = lcurve_dict[f'state{state+1}:res_min']\n",
    "    reg_min = lcurve_dict[f'state{state+1}:reg_min']\n",
    "    res_gcv = lcurve_dict[f'state{state+1}:res_gcv']\n",
    "    reg_gcv = lcurve_dict[f'state{state+1}:reg_gcv']\n",
    "    \n",
    "    #Normalize\n",
    "    \n",
    "    \n",
    "    ax.plot(res, reg, lw=2.5,dashes=dashesStyles[state%len(dashesStyles)],label=f'state $x_{state+1}$')\n",
    "    ax.plot(res_min, reg_min,'kx', markersize = 12)\n",
    "    ax.plot(res_gcv, reg_gcv, 'bs')\n",
    "    ax.plot(res_lc, reg_lc, 'ro')\n",
    "    \n",
    "    ax.set_xscale(\"log\")\n",
    "    ax.set_yscale(\"log\")\n",
    "    ax.set_ylabel(\"$||\\mathbf{D}_2\\mathbf{x}||_2^2$\", size = 11.5)\n",
    "    ax.set_xlabel(\"$||\\mathbf{y} - \\mathbf{x}||_2^2$\", size = 12)\n",
    "    ax.legend(frameon=False, loc='upper left',ncol=1,handlelength=2)\n",
    "    ax.tick_params(labelsize = 12)\n",
    "    ax.yaxis.tick_left()\n",
    "    nameOfPlot = f\"Pareto curves for Tikhonov ($\\sigma = {noise_lvl}$)\"\n",
    "    ax.set_title(nameOfPlot, size = 12)\n",
    "    ax.legend(frameon=False, loc='upper right',ncol=1,handlelength=4, fontsize = 12)"
   ]
  },
  {
   "cell_type": "code",
   "execution_count": 21,
   "metadata": {},
   "outputs": [],
   "source": [
    "fig_format = 'eps'\n",
    "filename = system+filter_method+f'_lcurve_noise_'+str(noise_lvl).replace('.','d')+'.'+fig_format\n",
    "fig.savefig(filename, format=fig_format, dpi=600)"
   ]
  },
  {
   "cell_type": "code",
   "execution_count": null,
   "metadata": {},
   "outputs": [],
   "source": []
  }
 ],
 "metadata": {
  "kernelspec": {
   "display_name": "Python [conda env:root] *",
   "language": "python",
   "name": "conda-root-py"
  },
  "language_info": {
   "codemirror_mode": {
    "name": "ipython",
    "version": 3
   },
   "file_extension": ".py",
   "mimetype": "text/x-python",
   "name": "python",
   "nbconvert_exporter": "python",
   "pygments_lexer": "ipython3",
   "version": "3.7.4"
  }
 },
 "nbformat": 4,
 "nbformat_minor": 2
}
