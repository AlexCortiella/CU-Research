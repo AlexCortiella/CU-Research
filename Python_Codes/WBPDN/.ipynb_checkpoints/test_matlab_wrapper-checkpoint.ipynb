{
 "cells": [
  {
   "cell_type": "code",
   "execution_count": 2,
   "metadata": {},
   "outputs": [
    {
     "name": "stdout",
     "output_type": "stream",
     "text": [
      "Exception caught during initialization of Python interface. Details: On Linux, you must set the environment variable \"LD_LIBRARY_PATH\" to a non-empty string. For more details, see the package documentation.\n"
     ]
    },
    {
     "ename": "RuntimeError",
     "evalue": "On Linux, you must set the environment variable \"LD_LIBRARY_PATH\" to a non-empty string. For more details, see the package documentation.",
     "output_type": "error",
     "traceback": [
      "\u001b[0;31m---------------------------------------------------------------------------\u001b[0m",
      "\u001b[0;31mRuntimeError\u001b[0m                              Traceback (most recent call last)",
      "\u001b[0;32m<ipython-input-2-808a53300c98>\u001b[0m in \u001b[0;36m<module>\u001b[0;34m\u001b[0m\n\u001b[1;32m     10\u001b[0m \u001b[0;31m# eng = matlab.engine.start_matlab()\u001b[0m\u001b[0;34m\u001b[0m\u001b[0;34m\u001b[0m\u001b[0;34m\u001b[0m\u001b[0m\n\u001b[1;32m     11\u001b[0m \u001b[0;34m\u001b[0m\u001b[0m\n\u001b[0;32m---> 12\u001b[0;31m \u001b[0;32mimport\u001b[0m \u001b[0msolveBP_pdco_pkg\u001b[0m\u001b[0;34m\u001b[0m\u001b[0;34m\u001b[0m\u001b[0m\n\u001b[0m\u001b[1;32m     13\u001b[0m \u001b[0mbpdn_pdco\u001b[0m \u001b[0;34m=\u001b[0m \u001b[0msolveBP_pdco_pkg\u001b[0m\u001b[0;34m.\u001b[0m\u001b[0minitialize\u001b[0m\u001b[0;34m(\u001b[0m\u001b[0;34m)\u001b[0m\u001b[0;34m\u001b[0m\u001b[0;34m\u001b[0m\u001b[0m\n",
      "\u001b[0;32m~/anaconda3/lib/python3.7/site-packages/solveBP_pdco_pkg/__init__.py\u001b[0m in \u001b[0;36m<module>\u001b[0;34m\u001b[0m\n\u001b[1;32m    281\u001b[0m \u001b[0;32mtry\u001b[0m\u001b[0;34m:\u001b[0m\u001b[0;34m\u001b[0m\u001b[0;34m\u001b[0m\u001b[0m\n\u001b[1;32m    282\u001b[0m     \u001b[0m_pir\u001b[0m \u001b[0;34m=\u001b[0m \u001b[0m_PathInitializer\u001b[0m\u001b[0;34m(\u001b[0m\u001b[0;34m)\u001b[0m\u001b[0;34m\u001b[0m\u001b[0;34m\u001b[0m\u001b[0m\n\u001b[0;32m--> 283\u001b[0;31m     \u001b[0m_pir\u001b[0m\u001b[0;34m.\u001b[0m\u001b[0mget_paths_from_os\u001b[0m\u001b[0;34m(\u001b[0m\u001b[0;34m)\u001b[0m\u001b[0;34m\u001b[0m\u001b[0;34m\u001b[0m\u001b[0m\n\u001b[0m\u001b[1;32m    284\u001b[0m \u001b[0;34m\u001b[0m\u001b[0m\n\u001b[1;32m    285\u001b[0m     \u001b[0m_pir\u001b[0m\u001b[0;34m.\u001b[0m\u001b[0mupdate_paths\u001b[0m\u001b[0;34m(\u001b[0m\u001b[0;34m)\u001b[0m\u001b[0;34m\u001b[0m\u001b[0;34m\u001b[0m\u001b[0m\n",
      "\u001b[0;32m~/anaconda3/lib/python3.7/site-packages/solveBP_pdco_pkg/__init__.py\u001b[0m in \u001b[0;36mget_paths_from_os\u001b[0;34m(self)\u001b[0m\n\u001b[1;32m    173\u001b[0m                 raise RuntimeError('On {0}, you must set the environment variable \"{1}\" to a non-empty string. {2}'.format(\n\u001b[1;32m    174\u001b[0m                     \u001b[0mself\u001b[0m\u001b[0;34m.\u001b[0m\u001b[0msystem\u001b[0m\u001b[0;34m,\u001b[0m \u001b[0mself\u001b[0m\u001b[0;34m.\u001b[0m\u001b[0mpath_var\u001b[0m\u001b[0;34m,\u001b[0m\u001b[0;34m\u001b[0m\u001b[0;34m\u001b[0m\u001b[0m\n\u001b[0;32m--> 175\u001b[0;31m                     'For more details, see the package documentation.'))\n\u001b[0m\u001b[1;32m    176\u001b[0m \u001b[0;34m\u001b[0m\u001b[0m\n\u001b[1;32m    177\u001b[0m         \u001b[0mpath_found\u001b[0m \u001b[0;34m=\u001b[0m \u001b[0;34m''\u001b[0m\u001b[0;34m\u001b[0m\u001b[0;34m\u001b[0m\u001b[0m\n",
      "\u001b[0;31mRuntimeError\u001b[0m: On Linux, you must set the environment variable \"LD_LIBRARY_PATH\" to a non-empty string. For more details, see the package documentation."
     ]
    }
   ],
   "source": [
    "#import python_matlab_package_name\n",
    "\n",
    "#object_name = python_matlab_package_name.initialize()\n",
    "\n",
    "#output = object_name.function_name(**args)\n",
    "\n",
    "# import matlab\n",
    "# print(matlab.__file__)\n",
    "# import matlab.engine\n",
    "# eng = matlab.engine.start_matlab()\n",
    "\n",
    "import solveBP_pdco_pkg\n",
    "bpdn_pdco = solveBP_pdco_pkg.initialize_runtime"
   ]
  },
  {
   "cell_type": "code",
   "execution_count": null,
   "metadata": {},
   "outputs": [],
   "source": []
  }
 ],
 "metadata": {
  "kernelspec": {
   "display_name": "Python [conda env:root] *",
   "language": "python",
   "name": "conda-root-py"
  },
  "language_info": {
   "codemirror_mode": {
    "name": "ipython",
    "version": 3
   },
   "file_extension": ".py",
   "mimetype": "text/x-python",
   "name": "python",
   "nbconvert_exporter": "python",
   "pygments_lexer": "ipython3",
   "version": "3.7.4"
  }
 },
 "nbformat": 4,
 "nbformat_minor": 2
}
