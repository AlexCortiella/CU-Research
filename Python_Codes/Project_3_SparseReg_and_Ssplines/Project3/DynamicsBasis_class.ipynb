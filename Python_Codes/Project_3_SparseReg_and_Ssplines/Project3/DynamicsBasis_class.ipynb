{
 "cells": [
  {
   "cell_type": "code",
   "execution_count": 244,
   "id": "a6fff135",
   "metadata": {},
   "outputs": [],
   "source": [
    "import numpy as np\n",
    "import matplotlib.pyplot as plt\n",
    "from scipy.linalg import lstsq\n",
    "from scipy.integrate import odeint"
   ]
  },
  {
   "cell_type": "code",
   "execution_count": 245,
   "id": "d637fac8",
   "metadata": {},
   "outputs": [],
   "source": [
    "from itertools import chain, combinations\n",
    "from itertools import combinations_with_replacement as combinations_w_r\n",
    "from math import comb\n",
    "\n",
    "class DynamicsBasis():\n",
    "    \n",
    "    def __init__(self, degree, X, t):  \n",
    "#         super().__init__(degree = degree)\n",
    "        self.m_samples = X.shape[0]\n",
    "        self.dim = X.shape[1]\n",
    "        self.degree = degree\n",
    "        self.n_basis = comb(self.dim + self.degree, self.degree)\n",
    "        self.t = t\n",
    "        self.include_bias = True\n",
    "        self.X = X\n",
    "        \n",
    "    @property\n",
    "    def multi_index(self):\n",
    "        \n",
    "        comb = combinations_w_r\n",
    "        start = int(not self.include_bias)\n",
    "        combinations = chain.from_iterable(comb(range(self.dim), i) for i in range(start, self.degree + 1))\n",
    "                                   \n",
    "        \n",
    "        return np.vstack([np.bincount(c, minlength=self.dim) for c in combinations])\n",
    "                                    \n",
    "    @property\n",
    "    def basis_names(self, input_dims = None):\n",
    "        \n",
    "        powers = self.multi_index\n",
    "        if input_dims is None:\n",
    "            input_dims = ['x%d' % i for i in range(powers.shape[1])]\n",
    "        basis_names = []\n",
    "        for row in powers:\n",
    "            inds = np.where(row)[0]\n",
    "            if len(inds):\n",
    "                name = \" \".join(\"%s^%d\" % (input_dims[ind], exp)\n",
    "                                if exp != 1 else input_dims[ind]\n",
    "                                for ind, exp in zip(inds, row[inds]))\n",
    "            else:\n",
    "                name = \"1\"\n",
    "            basis_names.append(name)\n",
    "            \n",
    "        return basis_names\n",
    "    \n",
    "    def phi_matrix(self, X = None):\n",
    "        \n",
    "        if X is None:\n",
    "            X = self.X\n",
    "            \n",
    "        powers = self.multi_index\n",
    "        \n",
    "        Phi = np.zeros((X.shape[0], self.n_basis))\n",
    "        \n",
    "        for basis in range(self.n_basis):\n",
    "        \n",
    "            indices = basis\n",
    "            col_indices_nd = np.zeros((X.shape[0],2))\n",
    "            col_indices_nd[:,0] = np.arange(X.shape[0])\n",
    "            col_indices_nd[:,1] = indices\n",
    "            col_indices_nd = col_indices_nd.astype('int')\n",
    "            updates = np.prod(np.power(X, np.tile([powers[basis,:]],(X.shape[0],1))), axis = 1)\n",
    "            #This should be equivalent to tensorflow tf.tensor_scatter_nd_update\n",
    "            Phi[np.ix_(col_indices_nd[:,0], col_indices_nd[:,1])] = updates.reshape(X.shape[0],1)\n",
    "            \n",
    "        return Phi\n",
    "        \n",
    "    def psi_matrix(self, X=None, t=None):\n",
    "        \n",
    "        if X is None:\n",
    "            X = self.X\n",
    "            \n",
    "        if t is None:\n",
    "            t = self.t\n",
    "            \n",
    "        self.m_samples = X.shape[0]\n",
    "        \n",
    "        Dt = t[1] - t[0]\n",
    "        \n",
    "        T = Dt * np.tril(np.ones(self.m_samples))\n",
    "        \n",
    "        Phi = self.phi_matrix(X)\n",
    "                \n",
    "        return np.matmul(T, Phi)"
   ]
  },
  {
   "cell_type": "code",
   "execution_count": 246,
   "id": "d1a8afd8",
   "metadata": {},
   "outputs": [
    {
     "data": {
      "image/png": "[encoded data removed]",
      "text/plain": [
       "<Figure size 432x432 with 1 Axes>"
      ]
     },
     "metadata": {
      "needs_background": "light"
     },
     "output_type": "display_data"
    }
   ],
   "source": [
    "####################### FUNCTIONS #######################\n",
    "\n",
    "# Simulate dynamical system\n",
    "\n",
    "def duffing(x, t, gamma=0.1, kappa=1, epsilon=5):\n",
    "    return [\n",
    "            x[1],\n",
    "            -gamma * x[1] - kappa * x[0] - epsilon * x[0] ** 3\n",
    "            ]\n",
    "\n",
    "gamma=0.1\n",
    "kappa=1\n",
    "epsilon=5\n",
    "\n",
    "####################### GENERATE DATA #######################\n",
    "\n",
    "# Simulate dynamics\n",
    "\n",
    "t0, tf = 0, 5 # start and end\n",
    "dt = 0.01  # time step\n",
    "n_times = int(np.floor(tf-t0)/dt + 1) #Number of time instances\n",
    "n_states = 2 #Number of state variables\n",
    "t_span = np.linspace(t0, tf, n_times)\n",
    "t_span_half = 0.5 * (t_span[0:-2] + t_span[1:-1])\n",
    "\n",
    "x0 = [0, 1]\n",
    "X = odeint(duffing, x0, t_span)\n",
    "X_half = odeint(duffing, x0, np.insert(t_span_half,0,0))\n",
    "X_half = X_half[1:]# For midpoint rule\n",
    "\n",
    "x1 = X[:,0]\n",
    "x2 = X[:,1]\n",
    "\n",
    "#Compute true derivatives\n",
    "dX = np.zeros((len(t_span),n_states))\n",
    "dX[:,0] = x2\n",
    "dX[:,1] =  -gamma * x2 - kappa * x1 - epsilon * x1 ** 3\n",
    "\n",
    "#Corrupt states by adding noise --> Observation model y(t) = x(t) + e(t)\n",
    "sigma = 0\n",
    "E = sigma * np.random.randn(n_times,n_states)#Additive zero-mean white noise (Assumed Gaussian)\n",
    "\n",
    "Y = X + E \n",
    "t = t_span\n",
    "m_samples = len(t)#Number of samples\n",
    "\n",
    "y1 = Y[:,0]\n",
    "y2 = Y[:,1]\n",
    "\n",
    "#Plot dynamical system and observations\n",
    "plt.figure(figsize = (6,6))\n",
    "plt.plot(y1,y2,'r.')\n",
    "plt.plot(x1[1:],x2[1:])\n",
    "plt.title('Duffing oscillator')\n",
    "plt.ylabel('x2')\n",
    "plt.xlabel('x1')\n",
    "plt.legend(['observations','dynamics'])\n",
    "plt.show()"
   ]
  },
  {
   "cell_type": "code",
   "execution_count": 247,
   "id": "146bcc36",
   "metadata": {},
   "outputs": [],
   "source": [
    "X_data = X\n",
    "X_data_tilde = X[1:,:] - X[0,:]\n",
    "t_data = t\n",
    "t_data_tilde = t[1:]\n",
    "dX_data = dX\n",
    "degree = 3"
   ]
  },
  {
   "cell_type": "code",
   "execution_count": 248,
   "id": "c9240489",
   "metadata": {},
   "outputs": [],
   "source": [
    "dynamics = DynamicsBasis(degree, X, t)"
   ]
  },
  {
   "cell_type": "code",
   "execution_count": 252,
   "id": "2e4d877b",
   "metadata": {},
   "outputs": [],
   "source": [
    "Phi = dynamics.phi_matrix()\n",
    "Psi = dynamics.psi_matrix(X_half, t_span_half)"
   ]
  },
  {
   "cell_type": "code",
   "execution_count": 253,
   "id": "7da1de90",
   "metadata": {},
   "outputs": [],
   "source": [
    "Y_data = X_data_tilde\n",
    "dY_data = dX_data"
   ]
  },
  {
   "cell_type": "code",
   "execution_count": 254,
   "id": "fce1ad0e",
   "metadata": {},
   "outputs": [
    {
     "name": "stderr",
     "output_type": "stream",
     "text": [
      "<ipython-input-254-2667b1d6685e>:3: FutureWarning: `rcond` parameter will change to the default of machine precision times ``max(M, N)`` where M and N are the input matrix dimensions.\n",
      "To use the future default and silence this warning we advise to pass `rcond=None`, to keep using the old, explicitly pass `rcond=-1`.\n",
      "  XI_diff = np.linalg.lstsq(Phi,dY_data)[0]\n"
     ]
    },
    {
     "ename": "LinAlgError",
     "evalue": "Incompatible dimensions",
     "output_type": "error",
     "traceback": [
      "\u001b[0;31m---------------------------------------------------------------------------\u001b[0m",
      "\u001b[0;31mLinAlgError\u001b[0m                               Traceback (most recent call last)",
      "\u001b[0;32m<ipython-input-254-2667b1d6685e>\u001b[0m in \u001b[0;36m<module>\u001b[0;34m\u001b[0m\n\u001b[1;32m      2\u001b[0m \u001b[0;34m\u001b[0m\u001b[0m\n\u001b[1;32m      3\u001b[0m \u001b[0mXI_diff\u001b[0m \u001b[0;34m=\u001b[0m \u001b[0mnp\u001b[0m\u001b[0;34m.\u001b[0m\u001b[0mlinalg\u001b[0m\u001b[0;34m.\u001b[0m\u001b[0mlstsq\u001b[0m\u001b[0;34m(\u001b[0m\u001b[0mPhi\u001b[0m\u001b[0;34m,\u001b[0m\u001b[0mdY_data\u001b[0m\u001b[0;34m)\u001b[0m\u001b[0;34m[\u001b[0m\u001b[0;36m0\u001b[0m\u001b[0;34m]\u001b[0m\u001b[0;34m\u001b[0m\u001b[0;34m\u001b[0m\u001b[0m\n\u001b[0;32m----> 4\u001b[0;31m \u001b[0mXI_int\u001b[0m \u001b[0;34m=\u001b[0m \u001b[0mnp\u001b[0m\u001b[0;34m.\u001b[0m\u001b[0mlinalg\u001b[0m\u001b[0;34m.\u001b[0m\u001b[0mlstsq\u001b[0m\u001b[0;34m(\u001b[0m\u001b[0mPsi\u001b[0m\u001b[0;34m,\u001b[0m\u001b[0mY_data\u001b[0m\u001b[0;34m)\u001b[0m\u001b[0;34m[\u001b[0m\u001b[0;36m0\u001b[0m\u001b[0;34m]\u001b[0m\u001b[0;34m\u001b[0m\u001b[0;34m\u001b[0m\u001b[0m\n\u001b[0m",
      "\u001b[0;32m<__array_function__ internals>\u001b[0m in \u001b[0;36mlstsq\u001b[0;34m(*args, **kwargs)\u001b[0m\n",
      "\u001b[0;32m~/.local/lib/python3.8/site-packages/numpy/linalg/linalg.py\u001b[0m in \u001b[0;36mlstsq\u001b[0;34m(a, b, rcond)\u001b[0m\n\u001b[1;32m   2273\u001b[0m     \u001b[0mm2\u001b[0m\u001b[0;34m,\u001b[0m \u001b[0mn_rhs\u001b[0m \u001b[0;34m=\u001b[0m \u001b[0mb\u001b[0m\u001b[0;34m.\u001b[0m\u001b[0mshape\u001b[0m\u001b[0;34m[\u001b[0m\u001b[0;34m-\u001b[0m\u001b[0;36m2\u001b[0m\u001b[0;34m:\u001b[0m\u001b[0;34m]\u001b[0m\u001b[0;34m\u001b[0m\u001b[0;34m\u001b[0m\u001b[0m\n\u001b[1;32m   2274\u001b[0m     \u001b[0;32mif\u001b[0m \u001b[0mm\u001b[0m \u001b[0;34m!=\u001b[0m \u001b[0mm2\u001b[0m\u001b[0;34m:\u001b[0m\u001b[0;34m\u001b[0m\u001b[0;34m\u001b[0m\u001b[0m\n\u001b[0;32m-> 2275\u001b[0;31m         \u001b[0;32mraise\u001b[0m \u001b[0mLinAlgError\u001b[0m\u001b[0;34m(\u001b[0m\u001b[0;34m'Incompatible dimensions'\u001b[0m\u001b[0;34m)\u001b[0m\u001b[0;34m\u001b[0m\u001b[0;34m\u001b[0m\u001b[0m\n\u001b[0m\u001b[1;32m   2276\u001b[0m \u001b[0;34m\u001b[0m\u001b[0m\n\u001b[1;32m   2277\u001b[0m     \u001b[0mt\u001b[0m\u001b[0;34m,\u001b[0m \u001b[0mresult_t\u001b[0m \u001b[0;34m=\u001b[0m \u001b[0m_commonType\u001b[0m\u001b[0;34m(\u001b[0m\u001b[0ma\u001b[0m\u001b[0;34m,\u001b[0m \u001b[0mb\u001b[0m\u001b[0;34m)\u001b[0m\u001b[0;34m\u001b[0m\u001b[0;34m\u001b[0m\u001b[0m\n",
      "\u001b[0;31mLinAlgError\u001b[0m: Incompatible dimensions"
     ]
    }
   ],
   "source": [
    "## LEAST SQUARES SOLUTION\n",
    "\n",
    "XI_diff = np.linalg.lstsq(Phi,dY_data)[0]\n",
    "XI_int = np.linalg.lstsq(Psi,Y_data)[0]"
   ]
  },
  {
   "cell_type": "code",
   "execution_count": 234,
   "id": "73208414",
   "metadata": {},
   "outputs": [
    {
     "name": "stdout",
     "output_type": "stream",
     "text": [
      "[[ 0.   0. ]\n",
      " [ 0.  -1. ]\n",
      " [ 1.  -0.1]\n",
      " [ 0.   0. ]\n",
      " [ 0.   0. ]\n",
      " [ 0.   0. ]\n",
      " [ 0.  -5. ]\n",
      " [ 0.   0. ]\n",
      " [ 0.   0. ]\n",
      " [ 0.   0. ]]\n"
     ]
    }
   ],
   "source": [
    "XI_diff[np.abs(XI_diff) < 1e-8] = 0\n",
    "print(XI_diff)"
   ]
  },
  {
   "cell_type": "code",
   "execution_count": 237,
   "id": "a2aaeeae",
   "metadata": {},
   "outputs": [
    {
     "name": "stdout",
     "output_type": "stream",
     "text": [
      "[[ 1.00048347 -0.09504109]\n",
      " [ 0.         -1.00104881]\n",
      " [ 1.00048329 -0.09501235]\n",
      " [ 0.          0.07505824]\n",
      " [ 0.          0.        ]\n",
      " [ 0.          0.        ]\n",
      " [ 0.02500712 -5.00157059]\n",
      " [ 0.          0.07504323]\n",
      " [ 0.          0.        ]\n",
      " [ 0.          0.        ]]\n"
     ]
    }
   ],
   "source": [
    "XI_int[np.abs(XI_int) < 1e-8] = 0\n",
    "print(XI_int)"
   ]
  },
  {
   "cell_type": "code",
   "execution_count": 255,
   "id": "36feba25",
   "metadata": {},
   "outputs": [
    {
     "data": {
      "text/plain": [
       "(499, 2)"
      ]
     },
     "execution_count": 255,
     "metadata": {},
     "output_type": "execute_result"
    }
   ],
   "source": [
    "X_half.shape"
   ]
  },
  {
   "cell_type": "code",
   "execution_count": 257,
   "id": "e886c0ad",
   "metadata": {},
   "outputs": [
    {
     "data": {
      "text/plain": [
       "(499,)"
      ]
     },
     "execution_count": 257,
     "metadata": {},
     "output_type": "execute_result"
    }
   ],
   "source": [
    "t_span_half.shape"
   ]
  },
  {
   "cell_type": "code",
   "execution_count": null,
   "id": "60792110",
   "metadata": {},
   "outputs": [],
   "source": []
  }
 ],
 "metadata": {
  "kernelspec": {
   "display_name": "Python 3",
   "language": "python",
   "name": "python3"
  },
  "language_info": {
   "codemirror_mode": {
    "name": "ipython",
    "version": 3
   },
   "file_extension": ".py",
   "mimetype": "text/x-python",
   "name": "python",
   "nbconvert_exporter": "python",
   "pygments_lexer": "ipython3",
   "version": "3.8.8"
  }
 },
 "nbformat": 4,
 "nbformat_minor": 5
}
