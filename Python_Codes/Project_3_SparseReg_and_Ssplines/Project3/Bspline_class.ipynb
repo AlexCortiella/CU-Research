{
 "cells": [
  {
   "cell_type": "code",
   "execution_count": 17,
   "id": "4b7f6f00",
   "metadata": {},
   "outputs": [],
   "source": [
    "## B-spline class\n",
    "\n",
    "import numpy as np\n",
    "import matplotlib.pyplot as plt\n",
    "\n",
    "class Bspline():\n",
    "    \n",
    "    def __init__(self, order, knots):\n",
    "        \n",
    "        self.knots = knots\n",
    "        self.order = order\n",
    "        self.degree = order - 1\n",
    "        self.num_params = len(knots) + order\n",
    "        \n",
    "    def bspline_basis(self, x, k, i, t):\n",
    "        \"\"\"\n",
    "        B-spline basis function value B(j,n) at x.\n",
    "        \n",
    "        Input arguments:\n",
    "         x:\n",
    "            value where the basis function is to be evaluated\n",
    "         n:\n",
    "            B-spline order (2 for linear, 1 for quadratic, etc.)\n",
    "         i:\n",
    "            interval index, 0 =< j < numel(t)-k-1\n",
    "\n",
    "         t:\n",
    "            knot vector\n",
    "\n",
    "         Output arguments:\n",
    "         y:\n",
    "        \n",
    "        \"\"\"\n",
    "        if k == 0:\n",
    "\n",
    "            return 1.0 if t[i] <= x < t[i+1] else 0.0\n",
    "\n",
    "        if t[i+k] == t[i]:\n",
    "\n",
    "            c1 = 0.0 #indeterminate forms 0/0 are deemed to be zero\n",
    "\n",
    "        else:\n",
    "            \n",
    "            c1 = (x - t[i])/(t[i+k] - t[i]) * self.bspline_basis(x, k-1, i, t)\n",
    "\n",
    "        if t[i+k+1] == t[i+1]:\n",
    "\n",
    "            c2 = 0.0 #indeterminate forms 0/0 are deemed to be zero\n",
    "\n",
    "        else:\n",
    "\n",
    "            c2 = (t[i+k+1] - x)/(t[i+k+1] - t[i+1]) * self.bspline_basis(x, k-1, i+1, t)\n",
    "        \n",
    "        return c1 + c2\n",
    "    \n",
    "    def basis_matrix(self, x):\n",
    "        \"\"\"\n",
    "        B-spline basis function value matrix B(n) for x.\n",
    "        \n",
    "        Input arguments:\n",
    "         n:\n",
    "            B-spline order (2 for linear, 3 for quadratic, etc.)\n",
    "         t:\n",
    "            knot vector\n",
    "         x (optional):\n",
    "            an m-dimensional vector of values where the basis function is to be\n",
    "            evaluated\n",
    "        \n",
    "        Output arguments:\n",
    "         B:\n",
    "            a matrix of m rows and numel(t)-n columns\n",
    "        \"\"\"\n",
    "        n = self.order\n",
    "        t = self.knots\n",
    "        k = n-1\n",
    "        \n",
    "        B = np.zeros((len(x),len(t) - n))\n",
    "        \n",
    "        for i in range(len(t) - n):\n",
    "            for j in range(len(x)):\n",
    "                B[j,i] = self.bspline_basis(x[j], k, i, t)\n",
    "            \n",
    "        return B\n",
    "        \n",
    "    def fit(self, x_data, y_data):\n",
    "        \n",
    "        Bmat =  self.basis_matrix(x_data)\n",
    "\n",
    "        #Solve least squares y = B * c\n",
    "        self.coeffs = np.linalg.lstsq(Bmat, y_data)[0]\n",
    "        \n",
    "    def predict(self, x_pred, coeffs = None):\n",
    "        \n",
    "        if coeffs is None:\n",
    "            coeffs = self.coeffs\n",
    "\n",
    "        Bmat =  self.basis_matrix(x_pred)\n",
    "        \n",
    "        y_pred = Bmat @ coeffs\n",
    "        \n",
    "        return y_pred"
   ]
  },
  {
   "cell_type": "code",
   "execution_count": 19,
   "id": "14e78268",
   "metadata": {},
   "outputs": [
    {
     "name": "stderr",
     "output_type": "stream",
     "text": [
      "<ipython-input-17-a29211f1dc53>:90: FutureWarning: `rcond` parameter will change to the default of machine precision times ``max(M, N)`` where M and N are the input matrix dimensions.\n",
      "To use the future default and silence this warning we advise to pass `rcond=None`, to keep using the old, explicitly pass `rcond=-1`.\n",
      "  self.coeffs = np.linalg.lstsq(Bmat, y_data)[0]\n"
     ]
    },
    {
     "data": {
      "text/plain": [
       "<matplotlib.legend.Legend at 0x7fec721b99d0>"
      ]
     },
     "execution_count": 19,
     "metadata": {},
     "output_type": "execute_result"
    },
    {
     "data": {
      "image/png": "[encoded data removed]",
      "text/plain": [
       "<Figure size 432x288 with 1 Axes>"
      ]
     },
     "metadata": {
      "needs_background": "light"
     },
     "output_type": "display_data"
    }
   ],
   "source": [
    "## TEST ##\n",
    "\n",
    "x_data = np.linspace(-np.pi, np.pi, 50)\n",
    "x_pred = np.linspace(-np.pi, np.pi, 200)\n",
    "y_data = np.sin(x_data)\n",
    "knots = np.concatenate(([x_data[0]]*3, x_data, [x_data[-1]]*3))\n",
    "\n",
    "degree = 3\n",
    "order = degree + 1\n",
    "\n",
    "bs = Bspline(order, knots)\n",
    "\n",
    "bs.fit(x_data, y_data)\n",
    "y_pred = bs.predict(x_pred)\n",
    "\n",
    "plt.plot(x_data, y_data, 'ro')\n",
    "plt.plot(x_pred, y_pred,'b')\n",
    "plt.ylabel('y(x)')\n",
    "plt.xlabel('x')\n",
    "plt.legend(['Data','Predictions'])"
   ]
  }
 ],
 "metadata": {
  "kernelspec": {
   "display_name": "Python 3",
   "language": "python",
   "name": "python3"
  },
  "language_info": {
   "codemirror_mode": {
    "name": "ipython",
    "version": 3
   },
   "file_extension": ".py",
   "mimetype": "text/x-python",
   "name": "python",
   "nbconvert_exporter": "python",
   "pygments_lexer": "ipython3",
   "version": "3.8.8"
  }
 },
 "nbformat": 4,
 "nbformat_minor": 5
}
