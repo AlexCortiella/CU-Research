{
 "cells": [
  {
   "cell_type": "code",
   "execution_count": 238,
   "id": "0a791056",
   "metadata": {},
   "outputs": [],
   "source": [
    "import tensorflow as tf\n",
    "import numpy as np\n",
    "import matplotlib.pyplot as plt\n",
    "import scipy\n",
    "from scipy.integrate import odeint"
   ]
  },
  {
   "cell_type": "code",
   "execution_count": 239,
   "id": "6e80c380",
   "metadata": {},
   "outputs": [],
   "source": [
    "## B-spline class\n",
    "\n",
    "class Bspline():\n",
    "    \n",
    "    def __init__(self, order, knots):\n",
    "        \n",
    "        self.knots = tf.constant(knots, dtype = tf.float32)\n",
    "        self.order = order\n",
    "        self.degree = order - 1\n",
    "        self.num_params = len(knots) - order\n",
    "\n",
    "    def bspline_basis(self, x, k, i, t):\n",
    "        \"\"\"\n",
    "        B-spline basis function value B(j,n) at x.\n",
    "        \n",
    "        Input arguments:\n",
    "         x:\n",
    "            value where the basis function is to be evaluated\n",
    "         n:\n",
    "            B-spline order (2 for linear, 1 for quadratic, etc.)\n",
    "         i:\n",
    "            interval index, 0 =< j < numel(t)-k-1\n",
    "\n",
    "         t:\n",
    "            knot vector\n",
    "\n",
    "         Output arguments:\n",
    "         y:\n",
    "        \n",
    "        \"\"\"\n",
    "        if k == 0:\n",
    "\n",
    "            return 1.0 if t[i] <= x < t[i+1] else 0.0\n",
    "\n",
    "        if t[i+k] == t[i]:\n",
    "\n",
    "            c1 = 0.0 #indeterminate forms 0/0 are deemed to be zero\n",
    "\n",
    "        else:\n",
    "            \n",
    "            c1 = (x - t[i])/(t[i+k] - t[i]) * self.bspline_basis(x, k-1, i, t)\n",
    "\n",
    "        if t[i+k+1] == t[i+1]:\n",
    "\n",
    "            c2 = 0.0 #indeterminate forms 0/0 are deemed to be zero\n",
    "\n",
    "        else:\n",
    "\n",
    "            c2 = (t[i+k+1] - x)/(t[i+k+1] - t[i+1]) * self.bspline_basis(x, k-1, i+1, t)\n",
    "        \n",
    "        return c1 + c2\n",
    "    \n",
    "    def basis_matrix(self, x):\n",
    "        \"\"\"\n",
    "        B-spline basis function value matrix B(n) for x.\n",
    "        \n",
    "        Input arguments:\n",
    "         n:\n",
    "            B-spline order (2 for linear, 3 for quadratic, etc.)\n",
    "         t:\n",
    "            knot vector\n",
    "         x (optional):\n",
    "            an m-dimensional vector of values where the basis function is to be\n",
    "            evaluated\n",
    "        \n",
    "        Output arguments:\n",
    "         B:\n",
    "            a matrix of m rows and numel(t)-n columns\n",
    "        \"\"\"\n",
    "        n = self.order\n",
    "        t = self.knots\n",
    "        k = n-1\n",
    "        \n",
    "        B = np.zeros((len(x),len(t) - n))\n",
    "        \n",
    "        for i in range(len(t) - n):\n",
    "            for j in range(len(x)):\n",
    "                B[j,i] = self.bspline_basis(x[j], k, i, t)\n",
    "            \n",
    "        return tf.constant(B, dtype = tf.float32)      \n",
    "        \n",
    "    def fit(self, x_data, y_data):\n",
    "        \n",
    "        x_data = tf.constant(x_data, dtype = tf.float32)\n",
    "        y_data = tf.constant(y_data, dtype = tf.float32)\n",
    "        \n",
    "        Bmat =  self.basis_matrix(x_data)\n",
    "        \n",
    "        #Solve least squares y = B * c\n",
    "        self.coeffs = tf.linalg.lstsq(Bmat, y_data)\n",
    "    \n",
    "    def predict(self, x_pred, coeffs = None):\n",
    "        \n",
    "        if coeffs is None:\n",
    "            coeffs = self.coeffs\n",
    "        \n",
    "        x_pred = tf.constant(x_pred, dtype = tf.float32)\n",
    "        coeffs = tf.constant(coeffs, dtype = tf.float32)\n",
    "        \n",
    "        Bmat =  self.basis_matrix(x_pred)\n",
    "        \n",
    "        y_pred = tf.matmul(Bmat, coeffs)\n",
    "        \n",
    "        return y_pred"
   ]
  },
  {
   "cell_type": "code",
   "execution_count": 240,
   "id": "3cc544af",
   "metadata": {},
   "outputs": [],
   "source": [
    "from itertools import chain, combinations\n",
    "from itertools import combinations_with_replacement as combinations_w_r\n",
    "from math import comb\n",
    "\n",
    "class DynamicsBasis():\n",
    "    \n",
    "    def __init__(self, degree, X, t):  \n",
    "#         super().__init__(degree = degree)\n",
    "        self.m_samples = X.shape[0]\n",
    "        self.dim = X.shape[1]\n",
    "        self.degree = degree\n",
    "        self.n_basis = comb(self.dim + self.degree, self.degree)\n",
    "        self.t = t\n",
    "        self.include_bias = True\n",
    "        self.X = tf.constant(X, dtype = tf.float32)\n",
    "        \n",
    "    @property\n",
    "    def multi_index(self):\n",
    "        \n",
    "        comb = combinations_w_r\n",
    "        start = int(not self.include_bias)\n",
    "        combinations = chain.from_iterable(comb(range(self.dim), i) for i in range(start, self.degree + 1))\n",
    "                                   \n",
    "        \n",
    "        return tf.cast(tf.stack([tf.math.bincount(c, minlength=self.dim) for c in combinations], axis = 0), dtype = tf.float32)\n",
    "                                    \n",
    "    @property\n",
    "    def basis_names(self, input_dims = None):\n",
    "        \n",
    "        powers = self.multi_index.numpy()\n",
    "        if input_dims is None:\n",
    "            input_dims = ['x%d' % i for i in range(powers.shape[1])]\n",
    "        basis_names = []\n",
    "        for row in powers:\n",
    "            inds = np.where(row)[0]\n",
    "            if len(inds):\n",
    "                name = \" \".join(\"%s^%d\" % (input_dims[ind], exp)\n",
    "                                if exp != 1 else input_dims[ind]\n",
    "                                for ind, exp in zip(inds, row[inds]))\n",
    "            else:\n",
    "                name = \"1\"\n",
    "            basis_names.append(name)\n",
    "            \n",
    "        return basis_names\n",
    "    \n",
    "    def phi_matrix(self, X = None):\n",
    "        \n",
    "        if X is None:\n",
    "            X = self.X\n",
    "        else:\n",
    "            X = tf.constant(X, dtype = tf.float32)\n",
    "            \n",
    "        \n",
    "        powers = self.multi_index\n",
    "        \n",
    "        Phi = tf.zeros((X.shape[0], self.n_basis))\n",
    "        \n",
    "#         idx_arr = np.zeros((X.shape[0],2))\n",
    "#         idx_arr[:,0] = [i for i in range(X.shape[0])]\n",
    "        \n",
    "#         for basis in range(self.n_basis):\n",
    "            \n",
    "#             idx_arr[:,1] = basis\n",
    "#             indices = tf.convert_to_tensor(idx_arr, dtype = tf.int32)\n",
    "#             print(indices)\n",
    "#             updates = tf.reduce_prod(tf.pow(X, tf.tile([powers[basis,:]],[X.shape[0],1])), axis = 1)\n",
    "#             print(updates)\n",
    "#             tf.tensor_scatter_nd_update(Phi, indices, updates)\n",
    "\n",
    "        for basis in range(self.n_basis):\n",
    "        \n",
    "            indices = tf.constant([basis])\n",
    "            col_indices_nd = tf.stack(tf.meshgrid(tf.range(tf.shape(Phi)[0]), indices, indexing='ij'), axis=-1)\n",
    "            updates = tf.reshape(tf.reduce_prod(tf.pow(X, tf.tile([powers[basis,:]],[X.shape[0],1])), axis = 1), (X.shape[0],1))\n",
    "            \n",
    "            temp = tf.scatter_nd(col_indices_nd, updates, (X.shape[0], self.n_basis))\n",
    "            Phi = tf.add(Phi, temp)\n",
    "            \n",
    "        return Phi\n",
    "        \n",
    "    def psi_matrix(self, X=None, t=None):\n",
    "        \n",
    "        if X is None:\n",
    "            X = self.X\n",
    "        else:\n",
    "            X = tf.constant(X, dtype = tf.float32)\n",
    "            \n",
    "        if t is None:\n",
    "            t = self.t\n",
    "        else:\n",
    "            t = tf.constant(t, dtype = tf.float32)\n",
    "        \n",
    "        Dt = t[1] - t[0]\n",
    "                \n",
    "        T = tf.constant(Dt * np.tril(np.ones(X.shape[0])), dtype = tf.float32)\n",
    "        \n",
    "        Phi = self.phi_matrix(X)\n",
    "                \n",
    "        return tf.matmul(T, Phi)"
   ]
  },
  {
   "cell_type": "code",
   "execution_count": 241,
   "id": "ecce0b06",
   "metadata": {},
   "outputs": [],
   "source": [
    "class SRSplineIdentification():\n",
    "    \n",
    "    def __init__(self, X, t, poly_degree = 4, spline_order = 4):\n",
    "        \n",
    "        self.t = tf.constant(t, dtype = tf.float32)\n",
    "        self.m_samples = X.shape[0]\n",
    "        self.dim = X.shape[1]\n",
    "        self.Y_data = tf.constant(np.reshape(X,(self.dim * self.m_samples, 1),'F'), dtype = tf.float32)\n",
    "\n",
    "        knots = np.concatenate([[t[0]]*3, t, [t[-1]]*3])\n",
    "        self.bspline = Bspline(spline_order, knots)#Initialize bspline object\n",
    "        bspmat = tf.constant(self.bspline.basis_matrix(t), dtype = tf.float32)\n",
    "        self.spline_matrix = self.blockdiag_tensor(bspmat)\n",
    "        \n",
    "        t_half = 0.5 * (t[1:] + t[0:-1])\n",
    "        self.t_half = tf.constant(t_half, dtype = tf.float32)\n",
    "        bspmat_half = tf.constant(self.bspline.basis_matrix(t_half), dtype = tf.float32)\n",
    "        self.spline_matrix_half = self.blockdiag_tensor(bspmat_half)  \n",
    "        \n",
    "        self.dyn_basis = DynamicsBasis(poly_degree, X, t)#Initialize dynamics basis object\n",
    "        \n",
    "        self.parameters = self.initialize_parameters()\n",
    "        \n",
    "        self.eps = 0.0001\n",
    "        self.alpha = 1.0\n",
    "        self.lambd = 1.0\n",
    "\n",
    "        \n",
    "    def initialize_parameters(self):\n",
    "        \n",
    "        Xi = np.random.rand(self.dyn_basis.n_basis, self.dim)\n",
    "        Theta = np.random.rand(self.bspline.num_params, self.dim)\n",
    "        \n",
    "        self.xi = tf.constant(Xi.flatten('F'), dtype = tf.float32)\n",
    "        self.theta = tf.constant(Theta.flatten('F'), dtype = tf.float32)\n",
    "        \n",
    "        return tf.concat([self.xi, self.theta], axis = 0)\n",
    "    \n",
    "    def blockdiag_tensor(self, tensor):\n",
    "        \n",
    "        T = tf.linalg.LinearOperatorFullMatrix(tensor)\n",
    "        I = tf.linalg.LinearOperatorFullMatrix(tf.eye(self.dim))\n",
    "        return tf.linalg.LinearOperatorKronecker([I,T]).to_dense()\n",
    "    \n",
    "    def vec_to_mat(self, vec, rows, cols):\n",
    "        \n",
    "        return tf.transpose(tf.reshape(tf.transpose(vec),(cols, rows)))\n",
    "    \n",
    "    def mat_to_vec(self, mat, rows, cols):\n",
    "        \n",
    "        return tf.transpose(tf.reshape(tf.transpose(mat),(1, rows * cols)))\n",
    "        \n",
    "    def spline_predict(self, mode):\n",
    "        \n",
    "        theta = self.vec_to_mat(self.theta, len(self.theta), 1)\n",
    "        \n",
    "        if mode == 0:\n",
    "            return tf.matmul(self.spline_matrix, theta)\n",
    "        else:\n",
    "            return tf.matmul(self.spline_matrix_half, theta)\n",
    "        \n",
    "    def spline_residual(self):\n",
    "        \n",
    "        Y_pred = self.spline_predict(0)\n",
    "                        \n",
    "        return self.Y_data - Y_pred\n",
    "        \n",
    "    def dynamics_residual(self):\n",
    "        \n",
    "        Y_tilde = self.Y_data[1:-1]\n",
    "        \n",
    "        Y_pred = self.spline_predict(1)\n",
    "        \n",
    "        Y_pred_mat = self.vec_to_mat(Y_pred, self.m_samples-1, self.dim)\n",
    "                \n",
    "        psi_mat = self.dyn_basis.psi_matrix(Y_pred_mat, self.t_half)\n",
    "        \n",
    "        D_big = self.blockdiag_tensor(psi_mat)\n",
    "        \n",
    "        self.Psi_matrix = D_big\n",
    "        \n",
    "        xi = self.vec_to_mat(self.xi, len(self.xi), 1)\n",
    "\n",
    "        return Y_tilde - tf.matmul(D_big,xi)\n",
    "        \n",
    "    def l1_residual(self):\n",
    "        \n",
    "        xi = self.vec_to_mat(self.xi, len(self.xi), 1)\n",
    "        \n",
    "        W = tf.linalg.diag(1 / tf.abs(self.xi) + self.eps * tf.ones(len(xi),))\n",
    "        L = tf.sqrt(W);\n",
    "        \n",
    "        Lxi = tf.matmul(L, xi)\n",
    "                \n",
    "        return Lxi\n",
    "    \n",
    "    def residual_vec(self):\n",
    "        \n",
    "        dyn_res = self.dynamics_residual()\n",
    "        spl_res = tf.sqrt(self.alpha) * self.spline_residual()\n",
    "        l1_res = tf.sqrt(self.lambd) * self.l1_residual()\n",
    "        \n",
    "#         res_vec = tf.concat([dyn_res, spl_res, l1_res], axis = 0)\n",
    "\n",
    "        return [dyn_res, spl_res, l1_res]\n",
    "        \n",
    "    def loss(self):\n",
    "        \n",
    "        return 0.5 * tf.reduce_sum(tf.square(self.residual_vec()))\n",
    "    \n",
    "    def get_jacobian(self):\n",
    "        \n",
    "        with tf.GradientTape(persistent = True) as tape:\n",
    "            \n",
    "            tape.watch(self.theta)\n",
    "            tape.watch(self.xi)\n",
    "            \n",
    "            dyn_res = tf.squeeze(self.residual_vec()[0])\n",
    "            spl_res = tf.squeeze(self.residual_vec()[1])\n",
    "            l1_res = tf.squeeze(self.residual_vec()[2])\n",
    "            \n",
    "\n",
    "            \n",
    "        J11 = tape.jacobian(dyn_res, self.xi)\n",
    "        J12 = tape.jacobian(dyn_res, self.theta)\n",
    "        J21 = tape.jacobian(spl_res, self.xi)\n",
    "        J22 = tape.jacobian(spl_res, self.theta)\n",
    "        J31 = tape.jacobian(l1_res, self.xi)\n",
    "        J32 = tape.jacobian(l1_res, self.theta)\n",
    "        \n",
    "        del tape\n",
    "        \n",
    "        return [J11, J12, J21, J22, J31, J32]  \n",
    "    \n",
    "    @tf.function    \n",
    "    def get_gradient(self):\n",
    "        \n",
    "        with tf.GradientTape(persistent = True) as tape:\n",
    "            \n",
    "            tape.watch(self.parameters)\n",
    "            \n",
    "            loss_value = self.loss()\n",
    "            \n",
    "        grad = tape.gradient(loss_value, self.parameters)\n",
    "        \n",
    "        del tape\n",
    "        \n",
    "        return grad\n",
    "        \n",
    "    def train_step(self):\n",
    "        pass\n",
    "    \n",
    "    def train(self):\n",
    "        pass\n",
    "        \n"
   ]
  },
  {
   "cell_type": "code",
   "execution_count": 242,
   "id": "8f1bdbc5",
   "metadata": {},
   "outputs": [
    {
     "data": {
      "image/png": "[encoded data removed]",
      "text/plain": [
       "<Figure size 432x432 with 1 Axes>"
      ]
     },
     "metadata": {
      "needs_background": "light"
     },
     "output_type": "display_data"
    }
   ],
   "source": [
    "####################### FUNCTIONS #######################\n",
    "\n",
    "# Simulate dynamical system\n",
    "\n",
    "def duffing(x, t, gamma=0.1, kappa=1, epsilon=5):\n",
    "    return [\n",
    "            x[1],\n",
    "            -gamma * x[1] - kappa * x[0] - epsilon * x[0] ** 3\n",
    "            ]\n",
    "\n",
    "gamma=0.1\n",
    "kappa=1\n",
    "epsilon=5\n",
    "\n",
    "####################### GENERATE DATA #######################\n",
    "\n",
    "# Simulate dynamics\n",
    "\n",
    "t0, te = 0, 2 # start and end\n",
    "dt = 0.05  # time step\n",
    "n_times = int(np.floor(te-t0)/dt + 1) #Number of time instances\n",
    "n_states = 2 #Number of state variables\n",
    "t_span = np.linspace(t0, te, n_times)\n",
    "x0 = [0, 1]\n",
    "X = odeint(duffing, x0, t_span)\n",
    "\n",
    "x1 = X[:,0]\n",
    "x2 = X[:,1]\n",
    "\n",
    "#Compute true derivatives\n",
    "dX = np.zeros((len(t_span),n_states))\n",
    "dX[:,0] = x2\n",
    "dX[:,1] =  -gamma * x2 - kappa * x1 - epsilon * x1 ** 3\n",
    "\n",
    "#Corrupt states by adding noise --> Observation model y(t) = x(t) + e(t)\n",
    "sigma = 0\n",
    "E = sigma * np.random.randn(n_times,n_states)#Additive zero-mean white noise (Assumed Gaussian)\n",
    "\n",
    "Y = X + E \n",
    "t = t_span\n",
    "m_samples = len(t)#Number of samples\n",
    "\n",
    "y1 = Y[:,0]\n",
    "y2 = Y[:,1]\n",
    "\n",
    "#Plot dynamical system and observations\n",
    "plt.figure(figsize = (6,6))\n",
    "plt.plot(y1,y2,'r.')\n",
    "plt.plot(x1[1:],x2[1:])\n",
    "plt.title('Duffing oscillator')\n",
    "plt.ylabel('x2')\n",
    "plt.xlabel('x1')\n",
    "plt.legend(['observations','dynamics'])\n",
    "plt.show()"
   ]
  },
  {
   "cell_type": "code",
   "execution_count": 243,
   "id": "4d6f8496",
   "metadata": {},
   "outputs": [],
   "source": [
    "model = SRSplineIdentification(Y,t,4,4)"
   ]
  },
  {
   "cell_type": "code",
   "execution_count": 258,
   "id": "69e9ab34",
   "metadata": {},
   "outputs": [
    {
     "name": "stdout",
     "output_type": "stream",
     "text": [
      "tf.Tensor(\n",
      "[[0.8730612 ]\n",
      " [0.5761254 ]\n",
      " [0.7938823 ]\n",
      " [0.4192936 ]\n",
      " [0.46187302]\n",
      " [0.37525526]\n",
      " [0.09625396]\n",
      " [0.5815874 ]\n",
      " [0.91738063]\n",
      " [0.8223912 ]\n",
      " [0.80833095]\n",
      " [0.08320834]\n",
      " [0.9154729 ]\n",
      " [0.70321345]\n",
      " [0.9340577 ]\n",
      " [0.84930617]\n",
      " [0.08420213]\n",
      " [0.79583704]\n",
      " [0.6813371 ]\n",
      " [0.53551483]\n",
      " [0.83055615]\n",
      " [0.5588713 ]\n",
      " [0.6760906 ]\n",
      " [0.6067952 ]\n",
      " [0.61610854]\n",
      " [0.63536054]\n",
      " [0.45064577]\n",
      " [0.9458453 ]\n",
      " [0.5971329 ]\n",
      " [0.78980273]], shape=(30, 1), dtype=float32)\n",
      "tf.Tensor(\n",
      "[[0.8730612 ]\n",
      " [0.5761254 ]\n",
      " [0.7938823 ]\n",
      " [0.4192936 ]\n",
      " [0.46187302]\n",
      " [0.37525526]\n",
      " [0.09625396]\n",
      " [0.5815874 ]\n",
      " [0.91738063]\n",
      " [0.8223912 ]\n",
      " [0.80833095]\n",
      " [0.08320834]\n",
      " [0.9154729 ]\n",
      " [0.70321345]\n",
      " [0.9340577 ]\n",
      " [0.84930617]\n",
      " [0.08420213]\n",
      " [0.79583704]\n",
      " [0.6813371 ]\n",
      " [0.53551483]\n",
      " [0.83055615]\n",
      " [0.5588713 ]\n",
      " [0.6760906 ]\n",
      " [0.6067952 ]\n",
      " [0.61610854]\n",
      " [0.63536054]\n",
      " [0.45064577]\n",
      " [0.9458453 ]\n",
      " [0.5971329 ]\n",
      " [0.78980273]], shape=(30, 1), dtype=float32)\n",
      "tf.Tensor(\n",
      "[[0.8730612 ]\n",
      " [0.5761254 ]\n",
      " [0.7938823 ]\n",
      " [0.4192936 ]\n",
      " [0.46187302]\n",
      " [0.37525526]\n",
      " [0.09625396]\n",
      " [0.5815874 ]\n",
      " [0.91738063]\n",
      " [0.8223912 ]\n",
      " [0.80833095]\n",
      " [0.08320834]\n",
      " [0.9154729 ]\n",
      " [0.70321345]\n",
      " [0.9340577 ]\n",
      " [0.84930617]\n",
      " [0.08420213]\n",
      " [0.79583704]\n",
      " [0.6813371 ]\n",
      " [0.53551483]\n",
      " [0.83055615]\n",
      " [0.5588713 ]\n",
      " [0.6760906 ]\n",
      " [0.6067952 ]\n",
      " [0.61610854]\n",
      " [0.63536054]\n",
      " [0.45064577]\n",
      " [0.9458453 ]\n",
      " [0.5971329 ]\n",
      " [0.78980273]], shape=(30, 1), dtype=float32)\n",
      "WARNING:tensorflow:11 out of the last 11 calls to <function pfor.<locals>.f at 0x7fabc02655e0> triggered tf.function retracing. Tracing is expensive and the excessive number of tracings could be due to (1) creating @tf.function repeatedly in a loop, (2) passing tensors with different shapes, (3) passing Python objects instead of tensors. For (1), please define your @tf.function outside of the loop. For (2), @tf.function has experimental_relax_shapes=True option that relaxes argument shapes that can avoid unnecessary retracing. For (3), please refer to https://www.tensorflow.org/guide/function#controlling_retracing and https://www.tensorflow.org/api_docs/python/tf/function for  more details.\n",
      "WARNING:tensorflow:11 out of the last 11 calls to <function pfor.<locals>.f at 0x7fac1c400670> triggered tf.function retracing. Tracing is expensive and the excessive number of tracings could be due to (1) creating @tf.function repeatedly in a loop, (2) passing tensors with different shapes, (3) passing Python objects instead of tensors. For (1), please define your @tf.function outside of the loop. For (2), @tf.function has experimental_relax_shapes=True option that relaxes argument shapes that can avoid unnecessary retracing. For (3), please refer to https://www.tensorflow.org/guide/function#controlling_retracing and https://www.tensorflow.org/api_docs/python/tf/function for  more details.\n",
      "WARNING:tensorflow:11 out of the last 11 calls to <function pfor.<locals>.f at 0x7fabc00fdf70> triggered tf.function retracing. Tracing is expensive and the excessive number of tracings could be due to (1) creating @tf.function repeatedly in a loop, (2) passing tensors with different shapes, (3) passing Python objects instead of tensors. For (1), please define your @tf.function outside of the loop. For (2), @tf.function has experimental_relax_shapes=True option that relaxes argument shapes that can avoid unnecessary retracing. For (3), please refer to https://www.tensorflow.org/guide/function#controlling_retracing and https://www.tensorflow.org/api_docs/python/tf/function for  more details.\n",
      "WARNING:tensorflow:11 out of the last 11 calls to <function pfor.<locals>.f at 0x7fabc072eb80> triggered tf.function retracing. Tracing is expensive and the excessive number of tracings could be due to (1) creating @tf.function repeatedly in a loop, (2) passing tensors with different shapes, (3) passing Python objects instead of tensors. For (1), please define your @tf.function outside of the loop. For (2), @tf.function has experimental_relax_shapes=True option that relaxes argument shapes that can avoid unnecessary retracing. For (3), please refer to https://www.tensorflow.org/guide/function#controlling_retracing and https://www.tensorflow.org/api_docs/python/tf/function for  more details.\n",
      "WARNING:tensorflow:11 out of the last 11 calls to <function pfor.<locals>.f at 0x7fabc072eb80> triggered tf.function retracing. Tracing is expensive and the excessive number of tracings could be due to (1) creating @tf.function repeatedly in a loop, (2) passing tensors with different shapes, (3) passing Python objects instead of tensors. For (1), please define your @tf.function outside of the loop. For (2), @tf.function has experimental_relax_shapes=True option that relaxes argument shapes that can avoid unnecessary retracing. For (3), please refer to https://www.tensorflow.org/guide/function#controlling_retracing and https://www.tensorflow.org/api_docs/python/tf/function for  more details.\n",
      "WARNING:tensorflow:11 out of the last 11 calls to <function pfor.<locals>.f at 0x7fac0030b670> triggered tf.function retracing. Tracing is expensive and the excessive number of tracings could be due to (1) creating @tf.function repeatedly in a loop, (2) passing tensors with different shapes, (3) passing Python objects instead of tensors. For (1), please define your @tf.function outside of the loop. For (2), @tf.function has experimental_relax_shapes=True option that relaxes argument shapes that can avoid unnecessary retracing. For (3), please refer to https://www.tensorflow.org/guide/function#controlling_retracing and https://www.tensorflow.org/api_docs/python/tf/function for  more details.\n"
     ]
    }
   ],
   "source": [
    "Jac = model.get_jacobian()"
   ]
  },
  {
   "cell_type": "code",
   "execution_count": 259,
   "id": "06246f56",
   "metadata": {},
   "outputs": [
    {
     "data": {
      "text/plain": [
       "<matplotlib.image.AxesImage at 0x7fab9eef7f10>"
      ]
     },
     "execution_count": 259,
     "metadata": {},
     "output_type": "execute_result"
    },
    {
     "data": {
      "image/png": "[encoded data removed]",
      "text/plain": [
       "<Figure size 432x288 with 1 Axes>"
      ]
     },
     "metadata": {
      "needs_background": "light"
     },
     "output_type": "display_data"
    }
   ],
   "source": [
    "Psi_1 = -model.Psi_matrix.numpy()\n",
    "J11 = Jac[0].numpy()\n",
    "plt.spy(J11)"
   ]
  },
  {
   "cell_type": "code",
   "execution_count": 260,
   "id": "1eba36b3",
   "metadata": {},
   "outputs": [
    {
     "data": {
      "text/plain": [
       "True"
      ]
     },
     "execution_count": 260,
     "metadata": {},
     "output_type": "execute_result"
    }
   ],
   "source": [
    "all(list((Psi_1 == J11).flatten()))"
   ]
  },
  {
   "cell_type": "code",
   "execution_count": 247,
   "id": "c338f44b",
   "metadata": {},
   "outputs": [
    {
     "name": "stdout",
     "output_type": "stream",
     "text": [
      "None\n"
     ]
    }
   ],
   "source": [
    "J21 = Jac[2]\n",
    "print(J21)"
   ]
  },
  {
   "cell_type": "code",
   "execution_count": 249,
   "id": "00ca08d6",
   "metadata": {},
   "outputs": [
    {
     "data": {
      "text/plain": [
       "<matplotlib.image.AxesImage at 0x7fabc0180d60>"
      ]
     },
     "execution_count": 249,
     "metadata": {},
     "output_type": "execute_result"
    },
    {
     "data": {
      "image/png": "[encoded data removed]",
      "text/plain": [
       "<Figure size 432x288 with 1 Axes>"
      ]
     },
     "metadata": {
      "needs_background": "light"
     },
     "output_type": "display_data"
    }
   ],
   "source": [
    "J31 = Jac[4]\n",
    "plt.spy(J31.numpy())"
   ]
  },
  {
   "cell_type": "code",
   "execution_count": 255,
   "id": "c360e412",
   "metadata": {},
   "outputs": [
    {
     "data": {
      "text/plain": [
       "<matplotlib.image.AxesImage at 0x7fab9f1dd0d0>"
      ]
     },
     "execution_count": 255,
     "metadata": {},
     "output_type": "execute_result"
    },
    {
     "data": {
      "image/png": "[encoded data removed]",
      "text/plain": [
       "<Figure size 432x288 with 1 Axes>"
      ]
     },
     "metadata": {
      "needs_background": "light"
     },
     "output_type": "display_data"
    }
   ],
   "source": [
    "J12 = Jac[1]\n",
    "plt.spy(J12.numpy())"
   ]
  },
  {
   "cell_type": "code",
   "execution_count": 263,
   "id": "82d7ba11",
   "metadata": {},
   "outputs": [
    {
     "data": {
      "text/plain": [
       "<matplotlib.image.AxesImage at 0x7fabc006f6a0>"
      ]
     },
     "execution_count": 263,
     "metadata": {},
     "output_type": "execute_result"
    },
    {
     "data": {
      "image/png": "[encoded data removed]",
      "text/plain": [
       "<Figure size 432x288 with 1 Axes>"
      ]
     },
     "metadata": {
      "needs_background": "light"
     },
     "output_type": "display_data"
    }
   ],
   "source": [
    "Spl_mat = -model.spline_matrix.numpy()\n",
    "J22 = Jac[3].numpy()\n",
    "plt.spy(J22)\n"
   ]
  },
  {
   "cell_type": "code",
   "execution_count": 264,
   "id": "f8fbcbfd",
   "metadata": {},
   "outputs": [
    {
     "data": {
      "text/plain": [
       "True"
      ]
     },
     "execution_count": 264,
     "metadata": {},
     "output_type": "execute_result"
    }
   ],
   "source": [
    "all(list((Spl_mat == J22).flatten()))"
   ]
  },
  {
   "cell_type": "code",
   "execution_count": 265,
   "id": "7d108c85",
   "metadata": {},
   "outputs": [
    {
     "name": "stdout",
     "output_type": "stream",
     "text": [
      "None\n"
     ]
    }
   ],
   "source": [
    "J32 = Jac[5]\n",
    "print(J32)"
   ]
  },
  {
   "cell_type": "code",
   "execution_count": null,
   "id": "9b611821",
   "metadata": {},
   "outputs": [],
   "source": []
  }
 ],
 "metadata": {
  "kernelspec": {
   "display_name": "Python 3",
   "language": "python",
   "name": "python3"
  },
  "language_info": {
   "codemirror_mode": {
    "name": "ipython",
    "version": 3
   },
   "file_extension": ".py",
   "mimetype": "text/x-python",
   "name": "python",
   "nbconvert_exporter": "python",
   "pygments_lexer": "ipython3",
   "version": "3.8.8"
  }
 },
 "nbformat": 4,
 "nbformat_minor": 5
}
