{
 "cells": [
  {
   "cell_type": "code",
   "execution_count": 2,
   "id": "0a791056",
   "metadata": {},
   "outputs": [],
   "source": [
    "import tensorflow as tf\n",
    "import numpy as np\n",
    "import matplotlib.pyplot as plt\n",
    "import scipy\n"
   ]
  },
  {
   "cell_type": "code",
   "execution_count": 15,
   "id": "6e80c380",
   "metadata": {},
   "outputs": [],
   "source": [
    "## B-spline class\n",
    "\n",
    "class Bspline():\n",
    "    \n",
    "    def __init__(self, order, knots):\n",
    "        \n",
    "        self.knots = tf.constant(knots, dtype = tf.float32)\n",
    "        self.order = order\n",
    "        self.degree = order - 1\n",
    "        self.num_params = len(knots) + order\n",
    "        \n",
    "    def bspline_basis(self, x, k, i, t):\n",
    "        \"\"\"\n",
    "        B-spline basis function value B(j,n) at x.\n",
    "        \n",
    "        Input arguments:\n",
    "         x:\n",
    "            value where the basis function is to be evaluated\n",
    "         n:\n",
    "            B-spline order (2 for linear, 1 for quadratic, etc.)\n",
    "         i:\n",
    "            interval index, 0 =< j < numel(t)-k-1\n",
    "\n",
    "         t:\n",
    "            knot vector\n",
    "\n",
    "         Output arguments:\n",
    "         y:\n",
    "        \n",
    "        \"\"\"\n",
    "        if k == 0:\n",
    "\n",
    "            return 1.0 if t[i] <= x < t[i+1] else 0.0\n",
    "\n",
    "        if t[i+k] == t[i]:\n",
    "\n",
    "            c1 = 0.0 #indeterminate forms 0/0 are deemed to be zero\n",
    "\n",
    "        else:\n",
    "            \n",
    "            c1 = (x - t[i])/(t[i+k] - t[i]) * self.bspline_basis(x, k-1, i, t)\n",
    "\n",
    "        if t[i+k+1] == t[i+1]:\n",
    "\n",
    "            c2 = 0.0 #indeterminate forms 0/0 are deemed to be zero\n",
    "\n",
    "        else:\n",
    "\n",
    "            c2 = (t[i+k+1] - x)/(t[i+k+1] - t[i+1]) * self.bspline_basis(x, k-1, i+1, t)\n",
    "        \n",
    "        return c1 + c2\n",
    "    \n",
    "    def basis_matrix(self, x):\n",
    "        \"\"\"\n",
    "        B-spline basis function value matrix B(n) for x.\n",
    "        \n",
    "        Input arguments:\n",
    "         n:\n",
    "            B-spline order (2 for linear, 3 for quadratic, etc.)\n",
    "         t:\n",
    "            knot vector\n",
    "         x (optional):\n",
    "            an m-dimensional vector of values where the basis function is to be\n",
    "            evaluated\n",
    "        \n",
    "        Output arguments:\n",
    "         B:\n",
    "            a matrix of m rows and numel(t)-n columns\n",
    "        \"\"\"\n",
    "        n = self.order\n",
    "        t = self.knots\n",
    "        k = n-1\n",
    "        \n",
    "        B = np.zeros((len(x),len(t) - n))\n",
    "        \n",
    "        for i in range(len(t) - n):\n",
    "            for j in range(len(x)):\n",
    "                B[j,i] = self.bspline_basis(x[j], k, i, t)\n",
    "            \n",
    "        return tf.constant(B, dtype = tf.float32)      \n",
    "        \n",
    "    def fit(self, x_data, y_data):\n",
    "        \n",
    "        x_data = tf.constant(x_data, dtype = tf.float32)\n",
    "        y_data = tf.constant(y_data, dtype = tf.float32)\n",
    "        \n",
    "        Bmat =  self.basis_matrix(x_data)\n",
    "        \n",
    "        #Solve least squares y = B * c\n",
    "        self.coeffs = tf.linalg.lstsq(Bmat, y_data)\n",
    "    \n",
    "    def predict(self, x_pred, coeffs = None):\n",
    "        \n",
    "        if coeffs is None:\n",
    "            coeffs = self.coeffs\n",
    "        \n",
    "        x_pred = tf.constant(x_pred, dtype = tf.float32)\n",
    "        coeffs = tf.constant(coeffs, dtype = tf.float32)\n",
    "        \n",
    "        Bmat =  self.basis_matrix(x_pred)\n",
    "        \n",
    "        y_pred = tf.matmul(Bmat, coeffs)\n",
    "        \n",
    "        return y_pred"
   ]
  },
  {
   "cell_type": "code",
   "execution_count": 16,
   "id": "3cc544af",
   "metadata": {},
   "outputs": [],
   "source": [
    "from itertools import chain, combinations\n",
    "from itertools import combinations_with_replacement as combinations_w_r\n",
    "from math import comb\n",
    "\n",
    "class DynamicsBasis():\n",
    "    \n",
    "    def __init__(self, degree, X, t):  \n",
    "#         super().__init__(degree = degree)\n",
    "        self.m_samples = X.shape[0]\n",
    "        self.dim = X.shape[1]\n",
    "        self.degree = degree\n",
    "        self.n_basis = comb(self.dim + self.degree, self.degree)\n",
    "        self.t = t\n",
    "        self.include_bias = True\n",
    "        self.X = tf.constant(X, dtype = tf.float32)\n",
    "        \n",
    "    @property\n",
    "    def multi_index(self):\n",
    "        \n",
    "        comb = combinations_w_r\n",
    "        start = int(not self.include_bias)\n",
    "        combinations = chain.from_iterable(comb(range(self.dim), i) for i in range(start, self.degree + 1))\n",
    "                                   \n",
    "        \n",
    "        return tf.cast(tf.stack([tf.math.bincount(c, minlength=self.dim) for c in combinations], axis = 0), dtype = tf.float32)\n",
    "                                    \n",
    "    @property\n",
    "    def basis_names(self, input_dims = None):\n",
    "        \n",
    "        powers = self.multi_index.numpy()\n",
    "        if input_dims is None:\n",
    "            input_dims = ['x%d' % i for i in range(powers.shape[1])]\n",
    "        basis_names = []\n",
    "        for row in powers:\n",
    "            inds = np.where(row)[0]\n",
    "            if len(inds):\n",
    "                name = \" \".join(\"%s^%d\" % (input_dims[ind], exp)\n",
    "                                if exp != 1 else input_dims[ind]\n",
    "                                for ind, exp in zip(inds, row[inds]))\n",
    "            else:\n",
    "                name = \"1\"\n",
    "            basis_names.append(name)\n",
    "            \n",
    "        return basis_names\n",
    "    \n",
    "    def phi_matrix(self, X = None):\n",
    "        \n",
    "        if X is None:\n",
    "            X = self.X\n",
    "        else:\n",
    "            X = tf.constant(X, dtype = tf.float32)\n",
    "            \n",
    "        \n",
    "        powers = self.multi_index\n",
    "        \n",
    "        Phi = tf.zeros((X.shape[0], self.n_basis))\n",
    "        \n",
    "#         idx_arr = np.zeros((X.shape[0],2))\n",
    "#         idx_arr[:,0] = [i for i in range(X.shape[0])]\n",
    "        \n",
    "#         for basis in range(self.n_basis):\n",
    "            \n",
    "#             idx_arr[:,1] = basis\n",
    "#             indices = tf.convert_to_tensor(idx_arr, dtype = tf.int32)\n",
    "#             print(indices)\n",
    "#             updates = tf.reduce_prod(tf.pow(X, tf.tile([powers[basis,:]],[X.shape[0],1])), axis = 1)\n",
    "#             print(updates)\n",
    "#             tf.tensor_scatter_nd_update(Phi, indices, updates)\n",
    "\n",
    "        for basis in range(self.n_basis):\n",
    "        \n",
    "            indices = tf.constant([basis])\n",
    "            col_indices_nd = tf.stack(tf.meshgrid(tf.range(tf.shape(Phi)[0]), indices, indexing='ij'), axis=-1)\n",
    "            updates = tf.reshape(tf.reduce_prod(tf.pow(X, tf.tile([powers[basis,:]],[X.shape[0],1])), axis = 1), (X.shape[0],1))\n",
    "            temp = tf.scatter_nd(col_indices_nd, updates, (X.shape[0], self.n_basis))\n",
    "            Phi = tf.add(Phi, temp)\n",
    "            \n",
    "        return Phi\n",
    "        \n",
    "    def psi_matrix(self, X=None, t=None):\n",
    "        \n",
    "        if X is None:\n",
    "            X = self.X\n",
    "        else:\n",
    "            X = tf.constant(X, dtype = tf.float32)\n",
    "            \n",
    "        if t is None:\n",
    "            t = self.t\n",
    "        else:\n",
    "            t = tf.constant(t, dtype = tf.float32)\n",
    "        \n",
    "        Dt = t[1] - t[0]\n",
    "        \n",
    "        T = tf.convert_to_tensor(Dt * np.tril(np.ones(self.m_samples)), dtype = tf.float32)\n",
    "        \n",
    "        Phi = self.phi_matrix(X)\n",
    "                \n",
    "        return tf.matmul(T, Phi)"
   ]
  },
  {
   "cell_type": "code",
   "execution_count": 18,
   "id": "26f51417",
   "metadata": {},
   "outputs": [
    {
     "ename": "InvalidArgumentError",
     "evalue": "Cholesky decomposition was not successful. The input might not be valid. [Op:Cholesky]",
     "output_type": "error",
     "traceback": [
      "\u001b[0;31m---------------------------------------------------------------------------\u001b[0m",
      "\u001b[0;31mInvalidArgumentError\u001b[0m                      Traceback (most recent call last)",
      "\u001b[0;32m<ipython-input-18-78b33ad49d36>\u001b[0m in \u001b[0;36m<module>\u001b[0;34m\u001b[0m\n\u001b[1;32m     11\u001b[0m \u001b[0mbs\u001b[0m \u001b[0;34m=\u001b[0m \u001b[0mBspline\u001b[0m\u001b[0;34m(\u001b[0m\u001b[0morder\u001b[0m\u001b[0;34m,\u001b[0m \u001b[0mknots\u001b[0m\u001b[0;34m)\u001b[0m\u001b[0;34m\u001b[0m\u001b[0;34m\u001b[0m\u001b[0m\n\u001b[1;32m     12\u001b[0m \u001b[0;34m\u001b[0m\u001b[0m\n\u001b[0;32m---> 13\u001b[0;31m \u001b[0mbs\u001b[0m\u001b[0;34m.\u001b[0m\u001b[0mfit\u001b[0m\u001b[0;34m(\u001b[0m\u001b[0mx_data\u001b[0m\u001b[0;34m,\u001b[0m \u001b[0my_data\u001b[0m\u001b[0;34m)\u001b[0m\u001b[0;34m\u001b[0m\u001b[0;34m\u001b[0m\u001b[0m\n\u001b[0m\u001b[1;32m     14\u001b[0m \u001b[0my_pred\u001b[0m \u001b[0;34m=\u001b[0m \u001b[0mbs\u001b[0m\u001b[0;34m.\u001b[0m\u001b[0mpredict\u001b[0m\u001b[0;34m(\u001b[0m\u001b[0mx_pred\u001b[0m\u001b[0;34m)\u001b[0m\u001b[0;34m.\u001b[0m\u001b[0mnumpy\u001b[0m\u001b[0;34m(\u001b[0m\u001b[0;34m)\u001b[0m\u001b[0;34m\u001b[0m\u001b[0;34m\u001b[0m\u001b[0m\n\u001b[1;32m     15\u001b[0m \u001b[0;34m\u001b[0m\u001b[0m\n",
      "\u001b[0;32m<ipython-input-15-ca801be9361b>\u001b[0m in \u001b[0;36mfit\u001b[0;34m(self, x_data, y_data)\u001b[0m\n\u001b[1;32m     88\u001b[0m \u001b[0;34m\u001b[0m\u001b[0m\n\u001b[1;32m     89\u001b[0m         \u001b[0;31m#Solve least squares y = B * c\u001b[0m\u001b[0;34m\u001b[0m\u001b[0;34m\u001b[0m\u001b[0;34m\u001b[0m\u001b[0m\n\u001b[0;32m---> 90\u001b[0;31m         \u001b[0mself\u001b[0m\u001b[0;34m.\u001b[0m\u001b[0mcoeffs\u001b[0m \u001b[0;34m=\u001b[0m \u001b[0mtf\u001b[0m\u001b[0;34m.\u001b[0m\u001b[0mlinalg\u001b[0m\u001b[0;34m.\u001b[0m\u001b[0mlstsq\u001b[0m\u001b[0;34m(\u001b[0m\u001b[0mBmat\u001b[0m\u001b[0;34m,\u001b[0m \u001b[0my_data\u001b[0m\u001b[0;34m)\u001b[0m\u001b[0;34m\u001b[0m\u001b[0;34m\u001b[0m\u001b[0m\n\u001b[0m\u001b[1;32m     91\u001b[0m \u001b[0;34m\u001b[0m\u001b[0m\n\u001b[1;32m     92\u001b[0m     \u001b[0;32mdef\u001b[0m \u001b[0mpredict\u001b[0m\u001b[0;34m(\u001b[0m\u001b[0mself\u001b[0m\u001b[0;34m,\u001b[0m \u001b[0mx_pred\u001b[0m\u001b[0;34m,\u001b[0m \u001b[0mcoeffs\u001b[0m \u001b[0;34m=\u001b[0m \u001b[0;32mNone\u001b[0m\u001b[0;34m)\u001b[0m\u001b[0;34m:\u001b[0m\u001b[0;34m\u001b[0m\u001b[0;34m\u001b[0m\u001b[0m\n",
      "\u001b[0;32m~/anaconda3/lib/python3.8/site-packages/tensorflow/python/util/dispatch.py\u001b[0m in \u001b[0;36mwrapper\u001b[0;34m(*args, **kwargs)\u001b[0m\n\u001b[1;32m    199\u001b[0m     \u001b[0;34m\"\"\"Call target, and fall back on dispatchers if there is a TypeError.\"\"\"\u001b[0m\u001b[0;34m\u001b[0m\u001b[0;34m\u001b[0m\u001b[0m\n\u001b[1;32m    200\u001b[0m     \u001b[0;32mtry\u001b[0m\u001b[0;34m:\u001b[0m\u001b[0;34m\u001b[0m\u001b[0;34m\u001b[0m\u001b[0m\n\u001b[0;32m--> 201\u001b[0;31m       \u001b[0;32mreturn\u001b[0m \u001b[0mtarget\u001b[0m\u001b[0;34m(\u001b[0m\u001b[0;34m*\u001b[0m\u001b[0margs\u001b[0m\u001b[0;34m,\u001b[0m \u001b[0;34m**\u001b[0m\u001b[0mkwargs\u001b[0m\u001b[0;34m)\u001b[0m\u001b[0;34m\u001b[0m\u001b[0;34m\u001b[0m\u001b[0m\n\u001b[0m\u001b[1;32m    202\u001b[0m     \u001b[0;32mexcept\u001b[0m \u001b[0;34m(\u001b[0m\u001b[0mTypeError\u001b[0m\u001b[0;34m,\u001b[0m \u001b[0mValueError\u001b[0m\u001b[0;34m)\u001b[0m\u001b[0;34m:\u001b[0m\u001b[0;34m\u001b[0m\u001b[0;34m\u001b[0m\u001b[0m\n\u001b[1;32m    203\u001b[0m       \u001b[0;31m# Note: convert_to_eager_tensor currently raises a ValueError, not a\u001b[0m\u001b[0;34m\u001b[0m\u001b[0;34m\u001b[0m\u001b[0;34m\u001b[0m\u001b[0m\n",
      "\u001b[0;32m~/anaconda3/lib/python3.8/site-packages/tensorflow/python/ops/linalg_ops.py\u001b[0m in \u001b[0;36mmatrix_solve_ls\u001b[0;34m(matrix, rhs, l2_regularizer, fast, name)\u001b[0m\n\u001b[1;32m    374\u001b[0m   \u001b[0mtensor_shape\u001b[0m \u001b[0;34m=\u001b[0m \u001b[0mmatrix\u001b[0m\u001b[0;34m.\u001b[0m\u001b[0mget_shape\u001b[0m\u001b[0;34m(\u001b[0m\u001b[0;34m)\u001b[0m\u001b[0;34m\u001b[0m\u001b[0;34m\u001b[0m\u001b[0m\n\u001b[1;32m    375\u001b[0m   \u001b[0;32mif\u001b[0m \u001b[0m_use_composite_impl\u001b[0m\u001b[0;34m(\u001b[0m\u001b[0mfast\u001b[0m\u001b[0;34m,\u001b[0m \u001b[0mtensor_shape\u001b[0m\u001b[0;34m)\u001b[0m\u001b[0;34m:\u001b[0m\u001b[0;34m\u001b[0m\u001b[0;34m\u001b[0m\u001b[0m\n\u001b[0;32m--> 376\u001b[0;31m     \u001b[0;32mreturn\u001b[0m \u001b[0m_composite_impl\u001b[0m\u001b[0;34m(\u001b[0m\u001b[0mmatrix\u001b[0m\u001b[0;34m,\u001b[0m \u001b[0mrhs\u001b[0m\u001b[0;34m,\u001b[0m \u001b[0ml2_regularizer\u001b[0m\u001b[0;34m)\u001b[0m\u001b[0;34m\u001b[0m\u001b[0;34m\u001b[0m\u001b[0m\n\u001b[0m\u001b[1;32m    377\u001b[0m   \u001b[0;32melse\u001b[0m\u001b[0;34m:\u001b[0m\u001b[0;34m\u001b[0m\u001b[0;34m\u001b[0m\u001b[0m\n\u001b[1;32m    378\u001b[0m     return gen_linalg_ops.matrix_solve_ls(\n",
      "\u001b[0;32m~/anaconda3/lib/python3.8/site-packages/tensorflow/python/ops/linalg_ops.py\u001b[0m in \u001b[0;36m_composite_impl\u001b[0;34m(matrix, rhs, l2_regularizer)\u001b[0m\n\u001b[1;32m    356\u001b[0m           \u001b[0;32mreturn\u001b[0m \u001b[0m_overdetermined\u001b[0m\u001b[0;34m(\u001b[0m\u001b[0mmatrix\u001b[0m\u001b[0;34m,\u001b[0m \u001b[0mrhs\u001b[0m\u001b[0;34m,\u001b[0m \u001b[0ml2_regularizer\u001b[0m\u001b[0;34m)\u001b[0m\u001b[0;34m\u001b[0m\u001b[0;34m\u001b[0m\u001b[0m\n\u001b[1;32m    357\u001b[0m         \u001b[0;32melse\u001b[0m\u001b[0;34m:\u001b[0m\u001b[0;34m\u001b[0m\u001b[0;34m\u001b[0m\u001b[0m\n\u001b[0;32m--> 358\u001b[0;31m           \u001b[0;32mreturn\u001b[0m \u001b[0m_underdetermined\u001b[0m\u001b[0;34m(\u001b[0m\u001b[0mmatrix\u001b[0m\u001b[0;34m,\u001b[0m \u001b[0mrhs\u001b[0m\u001b[0;34m,\u001b[0m \u001b[0ml2_regularizer\u001b[0m\u001b[0;34m)\u001b[0m\u001b[0;34m\u001b[0m\u001b[0;34m\u001b[0m\u001b[0m\n\u001b[0m\u001b[1;32m    359\u001b[0m       \u001b[0;32melse\u001b[0m\u001b[0;34m:\u001b[0m\u001b[0;34m\u001b[0m\u001b[0;34m\u001b[0m\u001b[0m\n\u001b[1;32m    360\u001b[0m         \u001b[0;31m# We have to defer determining the shape to runtime and use\u001b[0m\u001b[0;34m\u001b[0m\u001b[0;34m\u001b[0m\u001b[0;34m\u001b[0m\u001b[0m\n",
      "\u001b[0;32m~/anaconda3/lib/python3.8/site-packages/tensorflow/python/ops/linalg_ops.py\u001b[0m in \u001b[0;36m_underdetermined\u001b[0;34m(matrix, rhs, l2_regularizer)\u001b[0m\n\u001b[1;32m    344\u001b[0m   \u001b[0;32mdef\u001b[0m \u001b[0m_underdetermined\u001b[0m\u001b[0;34m(\u001b[0m\u001b[0mmatrix\u001b[0m\u001b[0;34m,\u001b[0m \u001b[0mrhs\u001b[0m\u001b[0;34m,\u001b[0m \u001b[0ml2_regularizer\u001b[0m\u001b[0;34m)\u001b[0m\u001b[0;34m:\u001b[0m\u001b[0;34m\u001b[0m\u001b[0;34m\u001b[0m\u001b[0m\n\u001b[1;32m    345\u001b[0m     \u001b[0;34m\"\"\"Computes A^H * (A*A^H + l2_regularizer)^{-1} * rhs.\"\"\"\u001b[0m\u001b[0;34m\u001b[0m\u001b[0;34m\u001b[0m\u001b[0m\n\u001b[0;32m--> 346\u001b[0;31m     chol = _RegularizedGramianCholesky(\n\u001b[0m\u001b[1;32m    347\u001b[0m         matrix, l2_regularizer=l2_regularizer, first_kind=False)\n\u001b[1;32m    348\u001b[0m     \u001b[0;32mreturn\u001b[0m \u001b[0mmath_ops\u001b[0m\u001b[0;34m.\u001b[0m\u001b[0mmatmul\u001b[0m\u001b[0;34m(\u001b[0m\u001b[0mmatrix\u001b[0m\u001b[0;34m,\u001b[0m \u001b[0mcholesky_solve\u001b[0m\u001b[0;34m(\u001b[0m\u001b[0mchol\u001b[0m\u001b[0;34m,\u001b[0m \u001b[0mrhs\u001b[0m\u001b[0;34m)\u001b[0m\u001b[0;34m,\u001b[0m \u001b[0madjoint_a\u001b[0m\u001b[0;34m=\u001b[0m\u001b[0;32mTrue\u001b[0m\u001b[0;34m)\u001b[0m\u001b[0;34m\u001b[0m\u001b[0;34m\u001b[0m\u001b[0m\n",
      "\u001b[0;32m~/anaconda3/lib/python3.8/site-packages/tensorflow/python/ops/linalg_ops.py\u001b[0m in \u001b[0;36m_RegularizedGramianCholesky\u001b[0;34m(matrix, l2_regularizer, first_kind)\u001b[0m\n\u001b[1;32m     79\u001b[0m         matrix.shape[:-2].concatenate([small_dim_static, small_dim_static]))\n\u001b[1;32m     80\u001b[0m     \u001b[0mgramian\u001b[0m \u001b[0;34m+=\u001b[0m \u001b[0ml2_regularizer\u001b[0m \u001b[0;34m*\u001b[0m \u001b[0midentity\u001b[0m\u001b[0;34m\u001b[0m\u001b[0;34m\u001b[0m\u001b[0m\n\u001b[0;32m---> 81\u001b[0;31m   \u001b[0;32mreturn\u001b[0m \u001b[0mgen_linalg_ops\u001b[0m\u001b[0;34m.\u001b[0m\u001b[0mcholesky\u001b[0m\u001b[0;34m(\u001b[0m\u001b[0mgramian\u001b[0m\u001b[0;34m)\u001b[0m\u001b[0;34m\u001b[0m\u001b[0;34m\u001b[0m\u001b[0m\n\u001b[0m\u001b[1;32m     82\u001b[0m \u001b[0;34m\u001b[0m\u001b[0m\n\u001b[1;32m     83\u001b[0m \u001b[0;34m\u001b[0m\u001b[0m\n",
      "\u001b[0;32m~/anaconda3/lib/python3.8/site-packages/tensorflow/python/ops/gen_linalg_ops.py\u001b[0m in \u001b[0;36mcholesky\u001b[0;34m(input, name)\u001b[0m\n\u001b[1;32m    773\u001b[0m       \u001b[0;32mreturn\u001b[0m \u001b[0m_result\u001b[0m\u001b[0;34m\u001b[0m\u001b[0;34m\u001b[0m\u001b[0m\n\u001b[1;32m    774\u001b[0m     \u001b[0;32mexcept\u001b[0m \u001b[0m_core\u001b[0m\u001b[0;34m.\u001b[0m\u001b[0m_NotOkStatusException\u001b[0m \u001b[0;32mas\u001b[0m \u001b[0me\u001b[0m\u001b[0;34m:\u001b[0m\u001b[0;34m\u001b[0m\u001b[0;34m\u001b[0m\u001b[0m\n\u001b[0;32m--> 775\u001b[0;31m       \u001b[0m_ops\u001b[0m\u001b[0;34m.\u001b[0m\u001b[0mraise_from_not_ok_status\u001b[0m\u001b[0;34m(\u001b[0m\u001b[0me\u001b[0m\u001b[0;34m,\u001b[0m \u001b[0mname\u001b[0m\u001b[0;34m)\u001b[0m\u001b[0;34m\u001b[0m\u001b[0;34m\u001b[0m\u001b[0m\n\u001b[0m\u001b[1;32m    776\u001b[0m     \u001b[0;32mexcept\u001b[0m \u001b[0m_core\u001b[0m\u001b[0;34m.\u001b[0m\u001b[0m_FallbackException\u001b[0m\u001b[0;34m:\u001b[0m\u001b[0;34m\u001b[0m\u001b[0;34m\u001b[0m\u001b[0m\n\u001b[1;32m    777\u001b[0m       \u001b[0;32mpass\u001b[0m\u001b[0;34m\u001b[0m\u001b[0;34m\u001b[0m\u001b[0m\n",
      "\u001b[0;32m~/anaconda3/lib/python3.8/site-packages/tensorflow/python/framework/ops.py\u001b[0m in \u001b[0;36mraise_from_not_ok_status\u001b[0;34m(e, name)\u001b[0m\n\u001b[1;32m   6860\u001b[0m   \u001b[0mmessage\u001b[0m \u001b[0;34m=\u001b[0m \u001b[0me\u001b[0m\u001b[0;34m.\u001b[0m\u001b[0mmessage\u001b[0m \u001b[0;34m+\u001b[0m \u001b[0;34m(\u001b[0m\u001b[0;34m\" name: \"\u001b[0m \u001b[0;34m+\u001b[0m \u001b[0mname\u001b[0m \u001b[0;32mif\u001b[0m \u001b[0mname\u001b[0m \u001b[0;32mis\u001b[0m \u001b[0;32mnot\u001b[0m \u001b[0;32mNone\u001b[0m \u001b[0;32melse\u001b[0m \u001b[0;34m\"\"\u001b[0m\u001b[0;34m)\u001b[0m\u001b[0;34m\u001b[0m\u001b[0;34m\u001b[0m\u001b[0m\n\u001b[1;32m   6861\u001b[0m   \u001b[0;31m# pylint: disable=protected-access\u001b[0m\u001b[0;34m\u001b[0m\u001b[0;34m\u001b[0m\u001b[0;34m\u001b[0m\u001b[0m\n\u001b[0;32m-> 6862\u001b[0;31m   \u001b[0msix\u001b[0m\u001b[0;34m.\u001b[0m\u001b[0mraise_from\u001b[0m\u001b[0;34m(\u001b[0m\u001b[0mcore\u001b[0m\u001b[0;34m.\u001b[0m\u001b[0m_status_to_exception\u001b[0m\u001b[0;34m(\u001b[0m\u001b[0me\u001b[0m\u001b[0;34m.\u001b[0m\u001b[0mcode\u001b[0m\u001b[0;34m,\u001b[0m \u001b[0mmessage\u001b[0m\u001b[0;34m)\u001b[0m\u001b[0;34m,\u001b[0m \u001b[0;32mNone\u001b[0m\u001b[0;34m)\u001b[0m\u001b[0;34m\u001b[0m\u001b[0;34m\u001b[0m\u001b[0m\n\u001b[0m\u001b[1;32m   6863\u001b[0m   \u001b[0;31m# pylint: enable=protected-access\u001b[0m\u001b[0;34m\u001b[0m\u001b[0;34m\u001b[0m\u001b[0;34m\u001b[0m\u001b[0m\n\u001b[1;32m   6864\u001b[0m \u001b[0;34m\u001b[0m\u001b[0m\n",
      "\u001b[0;32m~/.local/lib/python3.8/site-packages/six.py\u001b[0m in \u001b[0;36mraise_from\u001b[0;34m(value, from_value)\u001b[0m\n",
      "\u001b[0;31mInvalidArgumentError\u001b[0m: Cholesky decomposition was not successful. The input might not be valid. [Op:Cholesky]"
     ]
    },
    {
     "data": {
      "image/png": "[encoded data removed]",
      "text/plain": [
       "<Figure size 432x288 with 1 Axes>"
      ]
     },
     "metadata": {
      "needs_background": "light"
     },
     "output_type": "display_data"
    }
   ],
   "source": [
    "x_data = np.linspace(-np.pi, np.pi, 50)\n",
    "x_pred = np.linspace(-np.pi, np.pi, 200)\n",
    "y_data = np.sin(x_data)\n",
    "knots = np.concatenate(([x_data[0]]*3, x_data, [x_data[-1]]*3))\n",
    "\n",
    "plt.plot(x_data, y_data, 'ro')\n",
    "\n",
    "degree = 3\n",
    "order = degree + 1\n",
    "\n",
    "bs = Bspline(order, knots)\n",
    "\n",
    "bs.fit(x_data, y_data)\n",
    "y_pred = bs.predict(x_pred).numpy()\n",
    "\n",
    "plt.plot(x_pred, y_pred,'b')"
   ]
  },
  {
   "cell_type": "code",
   "execution_count": null,
   "id": "ecce0b06",
   "metadata": {},
   "outputs": [],
   "source": [
    "class SRSplineIdentification():\n",
    "    \n",
    "    def __init__(self, X, t, poly_degree, spline_order):\n",
    "        \n",
    "        self.Y_data = X.flatten()\n",
    "        self.t = t\n",
    "        self.m_samples = X.shape[0]\n",
    "        self.dim = X.shape[1]\n",
    "        knots = np.concatenate([t[0]*np.ones(3), t, t[-1]*np.ones(3)])\n",
    "        self.bspline = Bspline(spline_order, knots)#Initialize bspline object\n",
    "        \n",
    "        self.spline_matrix = tnp.kron(np.eye(self.dim), self.bspline.basis_matrix(t))\n",
    "        self.t_half = 0.5 * (t[1:-1] + t[0:-2])\n",
    "        self.spline_matrix_half = tnp.kron(tnp.eye(self.dim), self.bspline.basis_matrix(self.t_half))\n",
    "        self.dyn_basis = DynamicsBasis(poly_degree, X)#Initialize dynamics basis object\n",
    "        \n",
    "        self.parameters = self.initialize_parameters()\n",
    "        \n",
    "        self.eps = 1e-4\n",
    "        self.alpha = 1e-1\n",
    "        self.lambd = 1e-3\n",
    "\n",
    "        \n",
    "    def initialize_parameters(self):\n",
    "        \n",
    "        self.xi = tf.constant(np.random.rand(self.dyn_basis.num_params, self.dim).flatten(), dtype = tf.float32)\n",
    "        self.theta = tf.constant(np.random.rand(self.bspline.num_params, self.dim).flatten(), dtype = tf.float32)\n",
    "        \n",
    "        return tf.concat([self.xi, self.theta], axis = 0)\n",
    "    \n",
    "    def spline_predict(self, mode):\n",
    "        \n",
    "        if mode == 0:\n",
    "            return tf.matmul(self.spline_matrix, self.theta)\n",
    "        else:\n",
    "            print(self.spline_matrix_half)\n",
    "            return tf.matmul(self.spline_matrix_half, self.theta)\n",
    "        \n",
    "    def spline_residual(self):\n",
    "        \n",
    "        Y_pred = self.spline_predict(0)\n",
    "                        \n",
    "        return self.Y_data - Y_pred\n",
    "        \n",
    "    def dynamics_residual(self):\n",
    "        \n",
    "        Y_tilde = self.Y_data[1:-1]\n",
    "        \n",
    "        Y_pred = self.spline_predict(1)\n",
    "        \n",
    "        psi_mat = self.dyn_basis.psi_matrix(self.t_half, Y_pred)\n",
    "        \n",
    "        D_big = np.kron(np.eye(self.dim), psi_mat)\n",
    "                \n",
    "        return Y_tilde - tf.matmul(D_big,self.xi)\n",
    "        \n",
    "    def l1_residual(self):\n",
    "        \n",
    "        W = tf.linalg.diag(1 / tf.abs(self.xi) + self.eps * tf.ones(len(xi)))\n",
    "        L = tf.sqrt(W);\n",
    "        \n",
    "        return  tf.matmul(L, self.xi)\n",
    "    \n",
    "    def residual_vec(self):\n",
    "        \n",
    "        return tf.concat([self.dynamics_residual(), tf.sqrt(self.alpha) * self.spline_residual(),\n",
    "                          tf.sqrt(self.lambd) * self.l1_residual()], axis = 0)\n",
    "        \n",
    "    def loss(self):\n",
    "        \n",
    "        return 0.5 * tf.reduce_sum(tf.square(self.residual_vec()))\n",
    "        \n",
    "    def get_jacobian(self):\n",
    "        \n",
    "        with tf.GradientTape(persistent = True) as tape:\n",
    "            \n",
    "            tape.watch(self.parameters)\n",
    "            \n",
    "            res_vec = self.residual_vec()\n",
    "            \n",
    "        jac = tape.jacobian(res_vec, self.parameters)\n",
    "        \n",
    "        del tape\n",
    "        \n",
    "        return jac            \n",
    "        \n",
    "    def get_gradient(self):\n",
    "        \n",
    "        with tf.GradientTape(persistent = True) as tape:\n",
    "            \n",
    "            tape.watch(self.parameters)\n",
    "            \n",
    "            loss_value = self.loss()\n",
    "            \n",
    "        grad = tape.gradient(loss_value, self.parameters)\n",
    "        \n",
    "        del tape\n",
    "        \n",
    "        return grad\n",
    "        \n",
    "    def train_step(self):\n",
    "        pass\n",
    "    \n",
    "    def train(self):\n",
    "        pass\n",
    "        \n"
   ]
  },
  {
   "cell_type": "code",
   "execution_count": 7,
   "id": "c0ace884",
   "metadata": {},
   "outputs": [],
   "source": [
    "from itertools import chain, combinations\n",
    "from itertools import combinations_with_replacement as combinations_w_r\n",
    "from math import comb\n",
    "\n",
    "X = tf.random.uniform((10,2), dtype = tf.float32)\n",
    "t = tf.linspace(0,1,100)\n",
    "degree = 3\n",
    "dim = 2\n",
    "n_basis = comb(dim+degree, degree)\n",
    "include_bias = True\n",
    "\n",
    "comb = combinations_w_r\n",
    "start = int(not include_bias)\n",
    "combinations = chain.from_iterable(comb(range(dim), i) for i in range(start, degree + 1))\n",
    "mi = tf.cast(tf.stack([tf.math.bincount(c, minlength=dim) for c in combinations], axis = 0), dtype = tf.float32)"
   ]
  },
  {
   "cell_type": "code",
   "execution_count": 8,
   "id": "49cade5c",
   "metadata": {},
   "outputs": [
    {
     "ename": "NameError",
     "evalue": "name 'repeat' is not defined",
     "output_type": "error",
     "traceback": [
      "\u001b[0;31m---------------------------------------------------------------------------\u001b[0m",
      "\u001b[0;31mNameError\u001b[0m                                 Traceback (most recent call last)",
      "\u001b[0;32m<ipython-input-8-019647b61b15>\u001b[0m in \u001b[0;36m<module>\u001b[0;34m\u001b[0m\n\u001b[1;32m      2\u001b[0m \u001b[0;34m\u001b[0m\u001b[0m\n\u001b[1;32m      3\u001b[0m \u001b[0;32mfor\u001b[0m \u001b[0mbasis\u001b[0m \u001b[0;32min\u001b[0m \u001b[0mrange\u001b[0m\u001b[0;34m(\u001b[0m\u001b[0mn_basis\u001b[0m\u001b[0;34m)\u001b[0m\u001b[0;34m:\u001b[0m\u001b[0;34m\u001b[0m\u001b[0;34m\u001b[0m\u001b[0m\n\u001b[0;32m----> 4\u001b[0;31m         \u001b[0mrepeat\u001b[0m\u001b[0;34m(\u001b[0m\u001b[0mmi\u001b[0m\u001b[0;34m[\u001b[0m\u001b[0mbasis\u001b[0m\u001b[0;34m,\u001b[0m\u001b[0;34m:\u001b[0m\u001b[0;34m]\u001b[0m\u001b[0;34m,\u001b[0m \u001b[0mrepeats\u001b[0m\u001b[0;34m=\u001b[0m\u001b[0;34m[\u001b[0m\u001b[0mX\u001b[0m\u001b[0;34m.\u001b[0m\u001b[0mshape\u001b[0m\u001b[0;34m[\u001b[0m\u001b[0;36m0\u001b[0m\u001b[0;34m]\u001b[0m\u001b[0;34m]\u001b[0m\u001b[0;34m,\u001b[0m \u001b[0maxis\u001b[0m\u001b[0;34m=\u001b[0m\u001b[0;36m0\u001b[0m\u001b[0;34m)\u001b[0m\u001b[0;34m\u001b[0m\u001b[0;34m\u001b[0m\u001b[0m\n\u001b[0m\u001b[1;32m      5\u001b[0m \u001b[0;34m\u001b[0m\u001b[0m\n\u001b[1;32m      6\u001b[0m         \u001b[0mtf\u001b[0m\u001b[0;34m.\u001b[0m\u001b[0mtensor_scatter_nd_update\u001b[0m\u001b[0;34m(\u001b[0m\u001b[0mPhi\u001b[0m\u001b[0;34m,\u001b[0m \u001b[0;34m[\u001b[0m\u001b[0mi\u001b[0m\u001b[0;34m,\u001b[0m\u001b[0mbasis\u001b[0m\u001b[0;34m]\u001b[0m\u001b[0;34m,\u001b[0m \u001b[0;34m[\u001b[0m\u001b[0mtf\u001b[0m\u001b[0;34m.\u001b[0m\u001b[0mreduce_prod\u001b[0m\u001b[0;34m(\u001b[0m\u001b[0mtf\u001b[0m\u001b[0;34m.\u001b[0m\u001b[0mpow\u001b[0m\u001b[0;34m(\u001b[0m\u001b[0mX\u001b[0m\u001b[0;34m[\u001b[0m\u001b[0mi\u001b[0m\u001b[0;34m,\u001b[0m\u001b[0;34m:\u001b[0m\u001b[0;34m]\u001b[0m\u001b[0;34m,\u001b[0m \u001b[0mmi\u001b[0m\u001b[0;34m[\u001b[0m\u001b[0mbasis\u001b[0m\u001b[0;34m,\u001b[0m\u001b[0;34m:\u001b[0m\u001b[0;34m]\u001b[0m\u001b[0;34m)\u001b[0m\u001b[0;34m)\u001b[0m\u001b[0;34m]\u001b[0m\u001b[0;34m)\u001b[0m\u001b[0;34m\u001b[0m\u001b[0;34m\u001b[0m\u001b[0m\n",
      "\u001b[0;31mNameError\u001b[0m: name 'repeat' is not defined"
     ]
    }
   ],
   "source": [
    "Phi = tf.constant(tf.zeros((X.shape[0], n_basis), dtype=tf.float32))\n",
    "        \n",
    "for basis in range(n_basis):\n",
    "        repeat(mi[basis,:], repeats=[X.shape[0]], axis=0)\n",
    "\n",
    "        tf.tensor_scatter_nd_update(Phi, [i,basis], [tf.reduce_prod(tf.pow(X[i,:], mi[basis,:]))])\n"
   ]
  },
  {
   "cell_type": "code",
   "execution_count": 85,
   "id": "45e10606",
   "metadata": {},
   "outputs": [
    {
     "data": {
      "text/plain": [
       "<tf.Tensor: shape=(6, 3), dtype=float32, numpy=\n",
       "array([[0., 0., 0.],\n",
       "       [0., 0., 0.],\n",
       "       [0., 0., 0.],\n",
       "       [0., 0., 0.],\n",
       "       [0., 0., 0.],\n",
       "       [0., 0., 0.]], dtype=float32)>"
      ]
     },
     "execution_count": 85,
     "metadata": {},
     "output_type": "execute_result"
    }
   ],
   "source": [
    "tensor = tf.zeros([6, 3], dtype=tf.float32)\n",
    "tensor"
   ]
  },
  {
   "cell_type": "code",
   "execution_count": 98,
   "id": "eacf0149",
   "metadata": {},
   "outputs": [
    {
     "data": {
      "text/plain": [
       "<tf.Tensor: shape=(2, 1), dtype=int32, numpy=\n",
       "array([[2],\n",
       "       [4]], dtype=int32)>"
      ]
     },
     "execution_count": 98,
     "metadata": {},
     "output_type": "execute_result"
    }
   ],
   "source": [
    "indices = tf.convert_to_tensor(np.array([[2], [4]]), dtype = tf.int32)     # num_updates == 2, index_depth == 1\n",
    "num_updates, index_depth = indices.shape.as_list()\n",
    "indices"
   ]
  },
  {
   "cell_type": "code",
   "execution_count": 99,
   "id": "a01e4c09",
   "metadata": {},
   "outputs": [
    {
     "data": {
      "text/plain": [
       "TensorShape([2, 1])"
      ]
     },
     "execution_count": 99,
     "metadata": {},
     "output_type": "execute_result"
    }
   ],
   "source": [
    "indices.shape"
   ]
  },
  {
   "cell_type": "code",
   "execution_count": 100,
   "id": "e52259b7",
   "metadata": {},
   "outputs": [],
   "source": [
    "outer_shape = tensor.shape[:index_depth]\n",
    "inner_shape = tensor.shape[index_depth:]\n"
   ]
  },
  {
   "cell_type": "code",
   "execution_count": 101,
   "id": "50764422",
   "metadata": {},
   "outputs": [],
   "source": [
    "updates = tf.constant([[1, 2, 3],\n",
    "                       [4, 5, 6]], dtype = tf.float32)\n"
   ]
  },
  {
   "cell_type": "code",
   "execution_count": 102,
   "id": "ae7f5e4d",
   "metadata": {},
   "outputs": [
    {
     "data": {
      "text/plain": [
       "array([[0., 0., 0.],\n",
       "       [0., 0., 0.],\n",
       "       [1., 2., 3.],\n",
       "       [0., 0., 0.],\n",
       "       [4., 5., 6.],\n",
       "       [0., 0., 0.]], dtype=float32)"
      ]
     },
     "execution_count": 102,
     "metadata": {},
     "output_type": "execute_result"
    }
   ],
   "source": [
    "tf.tensor_scatter_nd_update(tensor, indices, updates).numpy()\n"
   ]
  },
  {
   "cell_type": "code",
   "execution_count": 53,
   "id": "03da3c96",
   "metadata": {},
   "outputs": [
    {
     "name": "stdout",
     "output_type": "stream",
     "text": [
      "<tf.Variable 'Variable:0' shape=(5, 3) dtype=float64, numpy=\n",
      "array([[0.10046628, 0.05025532, 0.52576539],\n",
      "       [0.49725771, 0.12149373, 0.65674228],\n",
      "       [0.49472537, 0.42323952, 0.95295847],\n",
      "       [0.08648505, 0.81362259, 0.48778956],\n",
      "       [0.69626064, 0.37134397, 0.13123187]])>\n",
      "<tf.Variable 'Variable:0' shape=(5, 3) dtype=float64, numpy=\n",
      "array([[0.10046628, 9.        , 0.52576539],\n",
      "       [0.49725771, 7.        , 0.65674228],\n",
      "       [0.49472537, 2.        , 0.95295847],\n",
      "       [0.08648505, 1.        , 0.48778956],\n",
      "       [0.69626064, 9.        , 0.13123187]])>\n"
     ]
    }
   ],
   "source": [
    "var = tf.Variable(np.random.rand(5,3))\n",
    "print(var)\n",
    "# update the last column of the three (3x3) matrices to random integer values\n",
    "# note that the update values needs to have the same shape\n",
    "# as broadcasting is not supported as of TF2\n",
    "var[:,1].assign(np.random.randint(10,size=(5,)))\n",
    "print(var)"
   ]
  },
  {
   "cell_type": "code",
   "execution_count": null,
   "id": "8f1bdbc5",
   "metadata": {},
   "outputs": [],
   "source": []
  }
 ],
 "metadata": {
  "kernelspec": {
   "display_name": "Python 3",
   "language": "python",
   "name": "python3"
  },
  "language_info": {
   "codemirror_mode": {
    "name": "ipython",
    "version": 3
   },
   "file_extension": ".py",
   "mimetype": "text/x-python",
   "name": "python",
   "nbconvert_exporter": "python",
   "pygments_lexer": "ipython3",
   "version": "3.8.8"
  }
 },
 "nbformat": 4,
 "nbformat_minor": 5
}
